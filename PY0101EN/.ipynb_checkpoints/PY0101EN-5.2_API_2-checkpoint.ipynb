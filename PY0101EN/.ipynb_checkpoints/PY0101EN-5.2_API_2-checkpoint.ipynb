{
 "cells": [
  {
   "cell_type": "markdown",
   "metadata": {},
   "source": [
    "<center>\n",
    "    <img src=\"https://s3-api.us-geo.objectstorage.softlayer.net/cf-courses-data/CognitiveClass/Logos/organization_logo/organization_logo.png\" width=\"300\" alt=\"cognitiveclass.ai logo\"  />\n",
    "</center>\n",
    "\n",
    "# Watson Speech to Text Translator\n",
    "\n",
    "Estimated time needed: **25** minutes\n",
    "\n",
    "## Objectives\n",
    "\n",
    "After completing this lab you will be able to:\n",
    "\n",
    "-   Create Speech to Text Translator\n"
   ]
  },
  {
   "cell_type": "markdown",
   "metadata": {},
   "source": [
    "### Introduction\n",
    "\n",
    "<p>In this notebook, you will learn to convert an audio file of an English speaker to text using a Speech to Text API. Then you will translate the English version to a Spanish version using a Language Translator API. <b>Note:</b> You must obtain the API keys and enpoints to complete the lab.</p>\n"
   ]
  },
  {
   "cell_type": "markdown",
   "metadata": {},
   "source": [
    "<div class=\"alert alert-block alert-info\" style=\"margin-top: 20px\">\n",
    "<h2>Table of Contents</h2>\n",
    "<ul>\n",
    "    <li><a href=\"#ref0\">Speech To Text</a></li>\n",
    "    <li><a href=\"#ref1\">Language Translator</a></li>\n",
    "    <li><a href=\"#ref2\">Exercise</a></li>\n",
    "</ul>\n",
    "</div>\n"
   ]
  },
  {
   "cell_type": "code",
   "execution_count": 1,
   "metadata": {
    "collapsed": false,
    "jupyter": {
     "outputs_hidden": false
    }
   },
   "outputs": [
    {
     "name": "stdout",
     "output_type": "stream",
     "text": [
      "Collecting PyJWT==1.7.1\n",
      "  Downloading https://files.pythonhosted.org/packages/87/8b/6a9f14b5f781697e51259d81657e6048fd31a113229cf346880bb7545565/PyJWT-1.7.1-py2.py3-none-any.whl\n",
      "Collecting ibm_watson\n",
      "\u001b[?25l  Downloading https://files.pythonhosted.org/packages/9b/88/395d7d52df29f321ae1150cf9b5a71cef8611570230502597c427bc1e9d9/ibm-watson-5.1.0.tar.gz (382kB)\n",
      "\u001b[K     |████████████████████████████████| 389kB 5.1MB/s eta 0:00:01\n",
      "\u001b[?25hCollecting wget\n",
      "  Downloading https://files.pythonhosted.org/packages/47/6a/62e288da7bcda82b935ff0c6cfe542970f04e29c756b0e147251b2fb251f/wget-3.2.zip\n",
      "Requirement already satisfied: requests<3.0,>=2.0 in /home/jupyterlab/conda/envs/python/lib/python3.6/site-packages (from ibm_watson) (2.25.0)\n",
      "Requirement already satisfied: python_dateutil>=2.5.3 in /home/jupyterlab/conda/envs/python/lib/python3.6/site-packages (from ibm_watson) (2.8.1)\n",
      "Collecting websocket-client==0.48.0 (from ibm_watson)\n",
      "\u001b[?25l  Downloading https://files.pythonhosted.org/packages/8a/a1/72ef9aa26cfe1a75cee09fc1957e4723add9de098c15719416a1ee89386b/websocket_client-0.48.0-py2.py3-none-any.whl (198kB)\n",
      "\u001b[K     |████████████████████████████████| 204kB 10.3MB/s eta 0:00:01\n",
      "\u001b[?25hCollecting ibm_cloud_sdk_core>=3.3.6 (from ibm_watson)\n",
      "  Downloading https://files.pythonhosted.org/packages/40/69/687bd0d5f1149ccb743193606670150dc482e66d4b41b8ca0e2fb3e9b6b6/ibm-cloud-sdk-core-3.7.0.tar.gz\n",
      "Requirement already satisfied: chardet<4,>=3.0.2 in /home/jupyterlab/conda/envs/python/lib/python3.6/site-packages (from requests<3.0,>=2.0->ibm_watson) (3.0.4)\n",
      "Requirement already satisfied: urllib3<1.27,>=1.21.1 in /home/jupyterlab/conda/envs/python/lib/python3.6/site-packages (from requests<3.0,>=2.0->ibm_watson) (1.25.11)\n",
      "Requirement already satisfied: certifi>=2017.4.17 in /home/jupyterlab/conda/envs/python/lib/python3.6/site-packages (from requests<3.0,>=2.0->ibm_watson) (2020.12.5)\n",
      "Requirement already satisfied: idna<3,>=2.5 in /home/jupyterlab/conda/envs/python/lib/python3.6/site-packages (from requests<3.0,>=2.0->ibm_watson) (2.10)\n",
      "Requirement already satisfied: six>=1.5 in /home/jupyterlab/conda/envs/python/lib/python3.6/site-packages (from python_dateutil>=2.5.3->ibm_watson) (1.15.0)\n",
      "Building wheels for collected packages: ibm-watson, wget, ibm-cloud-sdk-core\n",
      "  Building wheel for ibm-watson (setup.py) ... \u001b[?25ldone\n",
      "\u001b[?25h  Stored in directory: /home/jupyterlab/.cache/pip/wheels/49/6d/cf/1d91261b96363da78bf9b02699fd2262e6b5dad179500690c1\n",
      "  Building wheel for wget (setup.py) ... \u001b[?25ldone\n",
      "\u001b[?25h  Stored in directory: /home/jupyterlab/.cache/pip/wheels/40/15/30/7d8f7cea2902b4db79e3fea550d7d7b85ecb27ef992b618f3f\n",
      "  Building wheel for ibm-cloud-sdk-core (setup.py) ... \u001b[?25ldone\n",
      "\u001b[?25h  Stored in directory: /home/jupyterlab/.cache/pip/wheels/54/82/f5/3c56d0555efea0679336900979105f3d7f1ad2887bb07873a4\n",
      "Successfully built ibm-watson wget ibm-cloud-sdk-core\n",
      "\u001b[31mERROR: ibm-cloud-sdk-core 3.7.0 has requirement PyJWT<3.0.0,>=2.0.1, but you'll have pyjwt 1.7.1 which is incompatible.\u001b[0m\n",
      "Installing collected packages: PyJWT, websocket-client, ibm-cloud-sdk-core, ibm-watson, wget\n",
      "Successfully installed PyJWT-1.7.1 ibm-cloud-sdk-core-3.7.0 ibm-watson-5.1.0 websocket-client-0.48.0 wget-3.2\n"
     ]
    }
   ],
   "source": [
    "#you will need the following library \n",
    "!pip install PyJWT==1.7.1 ibm_watson wget"
   ]
  },
  {
   "cell_type": "markdown",
   "metadata": {},
   "source": [
    "<h2 id=\"ref0\">Speech to Text</h2>\n"
   ]
  },
  {
   "cell_type": "markdown",
   "metadata": {},
   "source": [
    "<p>First we import <code>SpeechToTextV1</code> from <code>ibm_watson</code>.For more information on the API, please click on this <a href=\"https://cloud.ibm.com/apidocs/speech-to-text?code=python\">link</a></p>\n"
   ]
  },
  {
   "cell_type": "code",
   "execution_count": 2,
   "metadata": {
    "collapsed": false,
    "jupyter": {
     "outputs_hidden": false
    }
   },
   "outputs": [],
   "source": [
    "from ibm_watson import SpeechToTextV1 \n",
    "import json\n",
    "from ibm_cloud_sdk_core.authenticators import IAMAuthenticator"
   ]
  },
  {
   "cell_type": "markdown",
   "metadata": {},
   "source": [
    "<p>The service endpoint is based on the location of the service instance, we store the information in the variable URL. To find out which URL to use, view the service credentials and paste the url here.</p>\n"
   ]
  },
  {
   "cell_type": "code",
   "execution_count": 3,
   "metadata": {},
   "outputs": [],
   "source": [
    "url_s2t = \"https://api.eu-gb.speech-to-text.watson.cloud.ibm.com/instances/5b98711f-2870-400a-b320-8e41a50b4897\""
   ]
  },
  {
   "cell_type": "markdown",
   "metadata": {},
   "source": [
    "<p>You require an API key, and you can obtain the key on the <a href=\"https://cloud.ibm.com/resources\">Dashboard </a>.</p>\n"
   ]
  },
  {
   "cell_type": "code",
   "execution_count": 4,
   "metadata": {
    "collapsed": false,
    "jupyter": {
     "outputs_hidden": false
    }
   },
   "outputs": [],
   "source": [
    "iam_apikey_s2t = \"_dhxI9w5wp2TNCsxZawCWsiWJjXCZL29gHFXxhc6YfB8\""
   ]
  },
  {
   "cell_type": "markdown",
   "metadata": {},
   "source": [
    "<p>You create a <a href=\"http://watson-developer-cloud.github.io/python-sdk/v0.25.0/apis/watson_developer_cloud.speech_to_text_v1.html\">Speech To Text Adapter object</a> the parameters are the  endpoint and API key.</p>\n"
   ]
  },
  {
   "cell_type": "code",
   "execution_count": 5,
   "metadata": {},
   "outputs": [
    {
     "data": {
      "text/plain": [
       "<ibm_watson.speech_to_text_v1_adapter.SpeechToTextV1Adapter at 0x7f0a67607208>"
      ]
     },
     "execution_count": 5,
     "metadata": {},
     "output_type": "execute_result"
    }
   ],
   "source": [
    "authenticator = IAMAuthenticator(iam_apikey_s2t)\n",
    "s2t = SpeechToTextV1(authenticator=authenticator)\n",
    "s2t.set_service_url(url_s2t)\n",
    "s2t"
   ]
  },
  {
   "cell_type": "markdown",
   "metadata": {},
   "source": [
    "<p>Lets download the audio file that we will use to convert into text.</p>\n"
   ]
  },
  {
   "cell_type": "code",
   "execution_count": 6,
   "metadata": {},
   "outputs": [
    {
     "name": "stdout",
     "output_type": "stream",
     "text": [
      "--2021-03-12 17:24:32--  https://cf-courses-data.s3.us.cloud-object-storage.appdomain.cloud/IBMDeveloperSkillsNetwork-PY0101EN-SkillsNetwork/labs/Module%205/data/PolynomialRegressionandPipelines.mp3\n",
      "Resolving cf-courses-data.s3.us.cloud-object-storage.appdomain.cloud (cf-courses-data.s3.us.cloud-object-storage.appdomain.cloud)... 169.63.118.104\n",
      "Connecting to cf-courses-data.s3.us.cloud-object-storage.appdomain.cloud (cf-courses-data.s3.us.cloud-object-storage.appdomain.cloud)|169.63.118.104|:443... connected.\n",
      "HTTP request sent, awaiting response... 200 OK\n",
      "Length: 4234179 (4.0M) [audio/mpeg]\n",
      "Saving to: ‘PolynomialRegressionandPipelines.mp3’\n",
      "\n",
      "PolynomialRegressio 100%[===================>]   4.04M  5.20MB/s    in 0.8s    \n",
      "\n",
      "2021-03-12 17:24:33 (5.20 MB/s) - ‘PolynomialRegressionandPipelines.mp3’ saved [4234179/4234179]\n",
      "\n"
     ]
    }
   ],
   "source": [
    "!wget -O PolynomialRegressionandPipelines.mp3  https://cf-courses-data.s3.us.cloud-object-storage.appdomain.cloud/IBMDeveloperSkillsNetwork-PY0101EN-SkillsNetwork/labs/Module%205/data/PolynomialRegressionandPipelines.mp3\n",
    "\n"
   ]
  },
  {
   "cell_type": "markdown",
   "metadata": {},
   "source": [
    "<p>We have the path of the wav file we would like to convert to text</p>\n"
   ]
  },
  {
   "cell_type": "code",
   "execution_count": 7,
   "metadata": {
    "collapsed": false,
    "jupyter": {
     "outputs_hidden": false
    }
   },
   "outputs": [],
   "source": [
    "filename='PolynomialRegressionandPipelines.mp3'"
   ]
  },
  {
   "cell_type": "markdown",
   "metadata": {},
   "source": [
    "<p>We create the file object <code>wav</code> with the wav file using  <code>open</code> ; we set the <code>mode</code> to  \"rb\" ,  this is similar to read mode, but it ensures the file is in binary mode.We use the method <code>recognize</code> to return the recognized text. The parameter audio is the file object <code>wav</code>, the parameter <code>content_type</code> is the format of the audio file.</p>\n"
   ]
  },
  {
   "cell_type": "code",
   "execution_count": 8,
   "metadata": {
    "collapsed": false,
    "jupyter": {
     "outputs_hidden": false
    }
   },
   "outputs": [],
   "source": [
    "with open(filename, mode=\"rb\")  as wav:\n",
    "    response = s2t.recognize(audio=wav, content_type='audio/mp3')"
   ]
  },
  {
   "cell_type": "markdown",
   "metadata": {},
   "source": [
    "<p>The attribute result contains a dictionary that includes the translation:</p>\n"
   ]
  },
  {
   "cell_type": "code",
   "execution_count": 9,
   "metadata": {},
   "outputs": [
    {
     "data": {
      "text/plain": [
       "{'result_index': 0,\n",
       " 'results': [{'final': True,\n",
       "   'alternatives': [{'transcript': 'in this video we will cover polynomial regression and pipelines ',\n",
       "     'confidence': 0.94}]},\n",
       "  {'final': True,\n",
       "   'alternatives': [{'transcript': \"what do we do when a linear model is not the best fit for our data let's look into another type of regression model the polynomial regression we transform our data into a polynomial then use linear regression to fit the parameters that we will discuss pipelines pipelines are way to simplify your code \",\n",
       "     'confidence': 0.9}]},\n",
       "  {'final': True,\n",
       "   'alternatives': [{'transcript': \"polynomial regression is a special case of the general linear regression this method is beneficial for describing curvilinear relationships what is a curvilinear relationship it's what you get by squaring or setting higher order terms of the predictor variables in the model transforming the data the model can be quadratic which means the predictor variable in the model is squared we use a bracket to indicated as an exponent this is the second order polynomial regression with a figure representing the function \",\n",
       "     'confidence': 0.95}]},\n",
       "  {'final': True,\n",
       "   'alternatives': [{'transcript': 'the model can be cubic which means the predictor variable is cute this is the third order polynomial regression we see by examining the figure that the function has more variation ',\n",
       "     'confidence': 0.95}]},\n",
       "  {'final': True,\n",
       "   'alternatives': [{'transcript': \"there also exists higher order polynomial regressions when a good fit hasn't been achieved by second or third order we can see in figures how much the graphs change when we change the order of the polynomial regression the degree of the regression makes a big difference and can result in a better fit if you pick the right value in all cases the relationship between the variable in the parameter is always linear \",\n",
       "     'confidence': 0.91}]},\n",
       "  {'final': True,\n",
       "   'alternatives': [{'transcript': \"let's look at an example from our data we generate a polynomial regression model \",\n",
       "     'confidence': 0.89}]},\n",
       "  {'final': True,\n",
       "   'alternatives': [{'transcript': 'in python we do this by using the poly fit function in this example we develop a third order polynomial regression model base we can print out the model symbolic form for the model is given by the following expression ',\n",
       "     'confidence': 0.92}]},\n",
       "  {'final': True,\n",
       "   'alternatives': [{'transcript': \"negative one point five five seven X. one cute plus two hundred four point eight X. one squared plus eight thousand nine hundred sixty five X. one plus one point three seven times ten to the power of five we can also have multi dimensional polynomial linear regression the expression can get complicated here are just some of the terms for two dimensional second order polynomial none pies poly fit function cannot perform this type of regression we use the preprocessing librarian scikit learn to create a polynomial feature object the constructor takes the degree of the polynomial as a parameter then we transform the features into a polynomial feature with the fit underscore transform method let's do a more intuitive example \",\n",
       "     'confidence': 0.9}]},\n",
       "  {'final': True,\n",
       "   'alternatives': [{'transcript': 'consider the feature shown here applying the method we transform the data we now have a new set of features that are transformed version of our original features as that I mention of the data gets larger we may want to normalize multiple features as scikit learn instead we can use the preprocessing module to simplify many tasks for example we can standardize each feature simultaneously we import standard scaler we train the object fit the scale object then transform the data into a new data frame on a rate X. underscore scale there are more normalization methods available in the pre processing library as well as other transformations we can simplify our code by using a pipeline library there are many steps to getting a prediction for example normalization polynomial transform and linear regression we simplify the process using a pipeline ',\n",
       "     'confidence': 0.9}]},\n",
       "  {'final': True,\n",
       "   'alternatives': [{'transcript': 'pipeline sequentially perform a series of transformations the last step carries out a prediction first we import all the modules we need then we import the library pipeline we create a list of topples the first element in the topple contains the name of the estimator model the second element contains model constructor we input the list in the pipeline constructor we now have a pipeline object we can train the pipeline by applying the train method to the pipeline object we can also produce a prediction as well ',\n",
       "     'confidence': 0.89}]},\n",
       "  {'final': True,\n",
       "   'alternatives': [{'transcript': 'the method normalizes the data performs a polynomial transform then outputs a prediction ',\n",
       "     'confidence': 0.89}]}]}"
      ]
     },
     "execution_count": 9,
     "metadata": {},
     "output_type": "execute_result"
    }
   ],
   "source": [
    "response.result"
   ]
  },
  {
   "cell_type": "code",
   "execution_count": 10,
   "metadata": {},
   "outputs": [
    {
     "data": {
      "text/html": [
       "<div>\n",
       "<style scoped>\n",
       "    .dataframe tbody tr th:only-of-type {\n",
       "        vertical-align: middle;\n",
       "    }\n",
       "\n",
       "    .dataframe tbody tr th {\n",
       "        vertical-align: top;\n",
       "    }\n",
       "\n",
       "    .dataframe thead th {\n",
       "        text-align: right;\n",
       "    }\n",
       "</style>\n",
       "<table border=\"1\" class=\"dataframe\">\n",
       "  <thead>\n",
       "    <tr style=\"text-align: right;\">\n",
       "      <th></th>\n",
       "      <th>transcript</th>\n",
       "    </tr>\n",
       "  </thead>\n",
       "  <tbody>\n",
       "    <tr>\n",
       "      <th>0</th>\n",
       "      <td>in this video we will cover polynomial regress...</td>\n",
       "    </tr>\n",
       "    <tr>\n",
       "      <th>1</th>\n",
       "      <td>what do we do when a linear model is not the b...</td>\n",
       "    </tr>\n",
       "    <tr>\n",
       "      <th>2</th>\n",
       "      <td>polynomial regression is a special case of the...</td>\n",
       "    </tr>\n",
       "    <tr>\n",
       "      <th>3</th>\n",
       "      <td>the model can be cubic which means the predict...</td>\n",
       "    </tr>\n",
       "    <tr>\n",
       "      <th>4</th>\n",
       "      <td>there also exists higher order polynomial regr...</td>\n",
       "    </tr>\n",
       "    <tr>\n",
       "      <th>5</th>\n",
       "      <td>let's look at an example from our data we gene...</td>\n",
       "    </tr>\n",
       "    <tr>\n",
       "      <th>6</th>\n",
       "      <td>in python we do this by using the poly fit fun...</td>\n",
       "    </tr>\n",
       "    <tr>\n",
       "      <th>7</th>\n",
       "      <td>negative one point five five seven X. one cute...</td>\n",
       "    </tr>\n",
       "    <tr>\n",
       "      <th>8</th>\n",
       "      <td>consider the feature shown here applying the m...</td>\n",
       "    </tr>\n",
       "    <tr>\n",
       "      <th>9</th>\n",
       "      <td>pipeline sequentially perform a series of tran...</td>\n",
       "    </tr>\n",
       "    <tr>\n",
       "      <th>10</th>\n",
       "      <td>the method normalizes the data performs a poly...</td>\n",
       "    </tr>\n",
       "  </tbody>\n",
       "</table>\n",
       "</div>"
      ],
      "text/plain": [
       "                                           transcript\n",
       "0   in this video we will cover polynomial regress...\n",
       "1   what do we do when a linear model is not the b...\n",
       "2   polynomial regression is a special case of the...\n",
       "3   the model can be cubic which means the predict...\n",
       "4   there also exists higher order polynomial regr...\n",
       "5   let's look at an example from our data we gene...\n",
       "6   in python we do this by using the poly fit fun...\n",
       "7   negative one point five five seven X. one cute...\n",
       "8   consider the feature shown here applying the m...\n",
       "9   pipeline sequentially perform a series of tran...\n",
       "10  the method normalizes the data performs a poly..."
      ]
     },
     "execution_count": 10,
     "metadata": {},
     "output_type": "execute_result"
    }
   ],
   "source": [
    "from pandas import json_normalize\n",
    "\n",
    "text = json_normalize(response.result['results'],\"alternatives\")\n",
    "text = text[['transcript']]\n",
    "strtext=\"\"\n",
    "for x in text.values:\n",
    "    strtext += x[0]\n",
    "#strtext\n",
    "text"
   ]
  },
  {
   "cell_type": "code",
   "execution_count": 11,
   "metadata": {},
   "outputs": [
    {
     "data": {
      "text/plain": [
       "<ibm_cloud_sdk_core.detailed_response.DetailedResponse at 0x7f0a675d6b38>"
      ]
     },
     "execution_count": 11,
     "metadata": {},
     "output_type": "execute_result"
    }
   ],
   "source": [
    "response"
   ]
  },
  {
   "cell_type": "markdown",
   "metadata": {},
   "source": [
    "<p>We can obtain the recognized text and assign it to the variable <code>recognized_text</code>:</p>\n"
   ]
  },
  {
   "cell_type": "code",
   "execution_count": 12,
   "metadata": {
    "collapsed": false,
    "jupyter": {
     "outputs_hidden": false
    }
   },
   "outputs": [
    {
     "data": {
      "text/plain": [
       "'in this video we will cover polynomial regression and pipelines '"
      ]
     },
     "execution_count": 12,
     "metadata": {},
     "output_type": "execute_result"
    }
   ],
   "source": [
    "recognized_text=response.result['results'][0][\"alternatives\"][0][\"transcript\"]\n",
    "type(recognized_text)\n",
    "recognized_text"
   ]
  },
  {
   "cell_type": "markdown",
   "metadata": {},
   "source": [
    "<h2 id=\"ref1\">Language Translator</h2>\n"
   ]
  },
  {
   "cell_type": "markdown",
   "metadata": {},
   "source": [
    "<p>First we import <code>LanguageTranslatorV3</code> from ibm_watson. For more information on the API click <a href=\"https://cloud.ibm.com/apidocs/speech-to-text?code=python\"> here</a></p>\n"
   ]
  },
  {
   "cell_type": "code",
   "execution_count": 13,
   "metadata": {},
   "outputs": [],
   "source": [
    "from ibm_watson import LanguageTranslatorV3"
   ]
  },
  {
   "cell_type": "markdown",
   "metadata": {},
   "source": [
    "<p>The service endpoint is based on the location of the service instance, we store the information in the variable URL. To find out which URL to use, view the service credentials.</p>\n"
   ]
  },
  {
   "cell_type": "code",
   "execution_count": 14,
   "metadata": {
    "collapsed": false,
    "jupyter": {
     "outputs_hidden": false
    }
   },
   "outputs": [],
   "source": [
    "url_lt='https://api.eu-gb.language-translator.watson.cloud.ibm.com/instances/0e370ea3-692c-4674-8eb2-3fd655dea6d3'"
   ]
  },
  {
   "cell_type": "markdown",
   "metadata": {},
   "source": [
    "<p>You require an API key, and you can obtain the key on the <a href=\"https://cloud.ibm.com/resources\">Dashboard</a>.</p>\n"
   ]
  },
  {
   "cell_type": "code",
   "execution_count": 15,
   "metadata": {
    "collapsed": false,
    "jupyter": {
     "outputs_hidden": false
    }
   },
   "outputs": [],
   "source": [
    "apikey_lt='mYT7sNcSvza2Xy1BI288Y0FI-epaiArvRpr9uaDDoDRL'"
   ]
  },
  {
   "cell_type": "markdown",
   "metadata": {},
   "source": [
    "<p>API requests require a version parameter that takes a date in the format version=YYYY-MM-DD. This lab describes the current version of Language Translator, 2018-05-01</p>\n"
   ]
  },
  {
   "cell_type": "code",
   "execution_count": 16,
   "metadata": {
    "collapsed": false,
    "jupyter": {
     "outputs_hidden": false
    }
   },
   "outputs": [],
   "source": [
    "version_lt='2018-05-01'"
   ]
  },
  {
   "cell_type": "markdown",
   "metadata": {},
   "source": [
    "<p>we create a  Language Translator object <code>language_translator</code>:</p>\n"
   ]
  },
  {
   "cell_type": "code",
   "execution_count": 17,
   "metadata": {
    "collapsed": false,
    "jupyter": {
     "outputs_hidden": false
    }
   },
   "outputs": [
    {
     "data": {
      "text/plain": [
       "{'languages': [{'language': 'af', 'name': 'Afrikaans'},\n",
       "  {'language': 'ar', 'name': 'Arabic'},\n",
       "  {'language': 'az', 'name': 'Azerbaijani'},\n",
       "  {'language': 'ba', 'name': 'Bashkir'},\n",
       "  {'language': 'be', 'name': 'Belarusian'},\n",
       "  {'language': 'bg', 'name': 'Bulgarian'},\n",
       "  {'language': 'bn', 'name': 'Bengali'},\n",
       "  {'language': 'ca', 'name': 'Catalan'},\n",
       "  {'language': 'cs', 'name': 'Czech'},\n",
       "  {'language': 'cv', 'name': 'Chuvash'},\n",
       "  {'language': 'cy', 'name': 'Welsh'},\n",
       "  {'language': 'da', 'name': 'Danish'},\n",
       "  {'language': 'de', 'name': 'German'},\n",
       "  {'language': 'el', 'name': 'Greek'},\n",
       "  {'language': 'en', 'name': 'English'},\n",
       "  {'language': 'eo', 'name': 'Esperanto'},\n",
       "  {'language': 'es', 'name': 'Spanish'},\n",
       "  {'language': 'et', 'name': 'Estonian'},\n",
       "  {'language': 'eu', 'name': 'Basque'},\n",
       "  {'language': 'fa', 'name': 'Persian'},\n",
       "  {'language': 'fi', 'name': 'Finnish'},\n",
       "  {'language': 'fr', 'name': 'French'},\n",
       "  {'language': 'ga', 'name': 'Irish'},\n",
       "  {'language': 'gu', 'name': 'Gujarati'},\n",
       "  {'language': 'he', 'name': 'Hebrew'},\n",
       "  {'language': 'hi', 'name': 'Hindi'},\n",
       "  {'language': 'hr', 'name': 'Croatian'},\n",
       "  {'language': 'ht', 'name': 'Haitian'},\n",
       "  {'language': 'hu', 'name': 'Hungarian'},\n",
       "  {'language': 'hy', 'name': 'Armenian'},\n",
       "  {'language': 'is', 'name': 'Icelandic'},\n",
       "  {'language': 'it', 'name': 'Italian'},\n",
       "  {'language': 'ja', 'name': 'Japanese'},\n",
       "  {'language': 'ka', 'name': 'Georgian'},\n",
       "  {'language': 'kk', 'name': 'Kazakh'},\n",
       "  {'language': 'km', 'name': 'Central Khmer'},\n",
       "  {'language': 'ko', 'name': 'Korean'},\n",
       "  {'language': 'ku', 'name': 'Kurdish'},\n",
       "  {'language': 'ky', 'name': 'Kirghiz'},\n",
       "  {'language': 'lo', 'name': 'Lao'},\n",
       "  {'language': 'lt', 'name': 'Lithuanian'},\n",
       "  {'language': 'lv', 'name': 'Latvian'},\n",
       "  {'language': 'ml', 'name': 'Malayalam'},\n",
       "  {'language': 'mn', 'name': 'Mongolian'},\n",
       "  {'language': 'mr', 'name': 'Marathi'},\n",
       "  {'language': 'ms', 'name': 'Malay'},\n",
       "  {'language': 'mt', 'name': 'Maltese'},\n",
       "  {'language': 'my', 'name': 'Burmese'},\n",
       "  {'language': 'nb', 'name': 'Norwegian Bokmal'},\n",
       "  {'language': 'ne', 'name': 'Nepali'},\n",
       "  {'language': 'nl', 'name': 'Dutch'},\n",
       "  {'language': 'nn', 'name': 'Norwegian Nynorsk'},\n",
       "  {'language': 'pa', 'name': 'Punjabi'},\n",
       "  {'language': 'pa-PK', 'name': 'Punjabi (Shahmukhi script, Pakistan)'},\n",
       "  {'language': 'pl', 'name': 'Polish'},\n",
       "  {'language': 'ps', 'name': 'Pushto'},\n",
       "  {'language': 'pt', 'name': 'Portuguese'},\n",
       "  {'language': 'ro', 'name': 'Romanian'},\n",
       "  {'language': 'ru', 'name': 'Russian'},\n",
       "  {'language': 'si', 'name': 'Sinhala'},\n",
       "  {'language': 'sk', 'name': 'Slovakian'},\n",
       "  {'language': 'sl', 'name': 'Slovenian'},\n",
       "  {'language': 'so', 'name': 'Somali'},\n",
       "  {'language': 'sq', 'name': 'Albanian'},\n",
       "  {'language': 'sr', 'name': 'Serbian'},\n",
       "  {'language': 'sv', 'name': 'Swedish'},\n",
       "  {'language': 'ta', 'name': 'Tamil'},\n",
       "  {'language': 'te', 'name': 'Telugu'},\n",
       "  {'language': 'th', 'name': 'Thai'},\n",
       "  {'language': 'tl', 'name': 'Tagalog'},\n",
       "  {'language': 'tr', 'name': 'Turkish'},\n",
       "  {'language': 'uk', 'name': 'Ukrainian'},\n",
       "  {'language': 'ur', 'name': 'Urdu'},\n",
       "  {'language': 'vi', 'name': 'Vietnamese'},\n",
       "  {'language': 'zh', 'name': 'Simplified Chinese'},\n",
       "  {'language': 'zh-TW', 'name': 'Traditional Chinese'}]}"
      ]
     },
     "execution_count": 17,
     "metadata": {},
     "output_type": "execute_result"
    }
   ],
   "source": [
    "authenticator = IAMAuthenticator(apikey_lt)\n",
    "language_translator = LanguageTranslatorV3(version=version_lt,authenticator=authenticator)\n",
    "language_translator.set_service_url(url_lt)\n",
    "language_translator.list_identifiable_languages().get_result()"
   ]
  },
  {
   "cell_type": "markdown",
   "metadata": {},
   "source": [
    "<p>We can get a Lists the languages that the service can identify.\n",
    "The method Returns the language code.  For example English (en) to  Spanis (es) and name of each language.</p>\n"
   ]
  },
  {
   "cell_type": "code",
   "execution_count": 18,
   "metadata": {
    "collapsed": false,
    "jupyter": {
     "outputs_hidden": false
    }
   },
   "outputs": [
    {
     "data": {
      "text/html": [
       "<div>\n",
       "<style scoped>\n",
       "    .dataframe tbody tr th:only-of-type {\n",
       "        vertical-align: middle;\n",
       "    }\n",
       "\n",
       "    .dataframe tbody tr th {\n",
       "        vertical-align: top;\n",
       "    }\n",
       "\n",
       "    .dataframe thead th {\n",
       "        text-align: right;\n",
       "    }\n",
       "</style>\n",
       "<table border=\"1\" class=\"dataframe\">\n",
       "  <thead>\n",
       "    <tr style=\"text-align: right;\">\n",
       "      <th></th>\n",
       "      <th>language</th>\n",
       "      <th>name</th>\n",
       "    </tr>\n",
       "  </thead>\n",
       "  <tbody>\n",
       "    <tr>\n",
       "      <th>0</th>\n",
       "      <td>af</td>\n",
       "      <td>Afrikaans</td>\n",
       "    </tr>\n",
       "    <tr>\n",
       "      <th>1</th>\n",
       "      <td>ar</td>\n",
       "      <td>Arabic</td>\n",
       "    </tr>\n",
       "    <tr>\n",
       "      <th>2</th>\n",
       "      <td>az</td>\n",
       "      <td>Azerbaijani</td>\n",
       "    </tr>\n",
       "    <tr>\n",
       "      <th>3</th>\n",
       "      <td>ba</td>\n",
       "      <td>Bashkir</td>\n",
       "    </tr>\n",
       "    <tr>\n",
       "      <th>4</th>\n",
       "      <td>be</td>\n",
       "      <td>Belarusian</td>\n",
       "    </tr>\n",
       "    <tr>\n",
       "      <th>...</th>\n",
       "      <td>...</td>\n",
       "      <td>...</td>\n",
       "    </tr>\n",
       "    <tr>\n",
       "      <th>71</th>\n",
       "      <td>uk</td>\n",
       "      <td>Ukrainian</td>\n",
       "    </tr>\n",
       "    <tr>\n",
       "      <th>72</th>\n",
       "      <td>ur</td>\n",
       "      <td>Urdu</td>\n",
       "    </tr>\n",
       "    <tr>\n",
       "      <th>73</th>\n",
       "      <td>vi</td>\n",
       "      <td>Vietnamese</td>\n",
       "    </tr>\n",
       "    <tr>\n",
       "      <th>74</th>\n",
       "      <td>zh</td>\n",
       "      <td>Simplified Chinese</td>\n",
       "    </tr>\n",
       "    <tr>\n",
       "      <th>75</th>\n",
       "      <td>zh-TW</td>\n",
       "      <td>Traditional Chinese</td>\n",
       "    </tr>\n",
       "  </tbody>\n",
       "</table>\n",
       "<p>76 rows × 2 columns</p>\n",
       "</div>"
      ],
      "text/plain": [
       "   language                 name\n",
       "0        af            Afrikaans\n",
       "1        ar               Arabic\n",
       "2        az          Azerbaijani\n",
       "3        ba              Bashkir\n",
       "4        be           Belarusian\n",
       "..      ...                  ...\n",
       "71       uk            Ukrainian\n",
       "72       ur                 Urdu\n",
       "73       vi           Vietnamese\n",
       "74       zh   Simplified Chinese\n",
       "75    zh-TW  Traditional Chinese\n",
       "\n",
       "[76 rows x 2 columns]"
      ]
     },
     "execution_count": 18,
     "metadata": {},
     "output_type": "execute_result"
    }
   ],
   "source": [
    "from pandas import json_normalize\n",
    "\n",
    "json_normalize(language_translator.list_identifiable_languages().get_result(), \"languages\")"
   ]
  },
  {
   "cell_type": "markdown",
   "metadata": {},
   "source": [
    "<p>We can use the method <code>translate</code> this will translate the text. The parameter text is the text. Model_id is the type of model we would like to use use we use list the language . In this case, we set it to 'en-es' or English to Spanish. We get a Detailed Response object translation_response</p>\n"
   ]
  },
  {
   "cell_type": "code",
   "execution_count": 19,
   "metadata": {},
   "outputs": [
    {
     "data": {
      "text/plain": [
       "{'translations': [{'translation': 'love you'}],\n",
       " 'word_count': 2,\n",
       " 'character_count': 8}"
      ]
     },
     "execution_count": 19,
     "metadata": {},
     "output_type": "execute_result"
    }
   ],
   "source": [
    "translation = language_translator.translate(\\\n",
    "        text=\"love you\", model_id='en-es')\n",
    "translation.get_result()"
   ]
  },
  {
   "cell_type": "code",
   "execution_count": 20,
   "metadata": {
    "collapsed": false,
    "jupyter": {
     "outputs_hidden": false
    }
   },
   "outputs": [
    {
     "data": {
      "text/plain": [
       "{'result': [{'translations': [{'translation': 'en este vídeo cubriremos la regresión polinómica y las tuberías '}],\n",
       "   'word_count': 10,\n",
       "   'character_count': 64},\n",
       "  {'translations': [{'translation': '¿Qué hacemos cuando un modelo lineal no es el mejor ajuste para nuestros datos vamos a ver en otro tipo de modelo de regresión la regresión polinómica que transformamos nuestros datos en un polinomio y luego utilizar la regresión lineal para ajustar los parámetros que vamos a discutir los ductos de tuberías son manera de simplificar su código '}],\n",
       "   'word_count': 55,\n",
       "   'character_count': 302},\n",
       "  {'translations': [{'translation': 'La regresión polinómica es un caso especial de la regresión lineal general este método es beneficioso para describir las relaciones curvilínear lo que es una relación curvilínea es lo que se obtiene al cuadrar o establecer términos de orden superior de las variables predictoras en el modelo que transforma los datos que el modelo puede ser cuadrático, lo que significa que la variable predictora en el modelo es cuadrado usamos un corchete para indicar como un exponente esta es la regresión polinómica de segundo orden con una figura que representa la función '}],\n",
       "   'word_count': 83,\n",
       "   'character_count': 515},\n",
       "  {'translations': [{'translation': 'el modelo puede ser cúbico, lo que significa que la variable predictora es linda esta es la tercera regresión polinómica de orden que vemos al examinar la figura de que la función tiene más variación '}],\n",
       "   'word_count': 31,\n",
       "   'character_count': 180},\n",
       "  {'translations': [{'translation': 'también existe orden superior de regresiones polinómicas cuando un buen ajuste no se ha logrado por segundo o tercer orden podemos ver en cifras cuánto cambian los gráficos cuando cambiamos el orden de la regresión polinómica el grado de la regresión hace una gran diferencia y puede resultar en un mejor ajuste si usted escoge el valor correcto en todos los casos la relación entre la variable en el parámetro es siempre lineal '}],\n",
       "   'word_count': 75,\n",
       "   'character_count': 415},\n",
       "  {'translations': [{'translation': 'vamos a ver un ejemplo de nuestros datos que generamos un modelo de regresión polinómica '}],\n",
       "   'word_count': 15,\n",
       "   'character_count': 81},\n",
       "  {'translations': [{'translation': 'En python hacemos esto usando la función de poli fit en este ejemplo desarrollamos una base de modelo de regresión polinómica de tercer orden podemos imprimir el modelo de forma simbólica para el modelo es dado por la siguiente expresión '}],\n",
       "   'word_count': 40,\n",
       "   'character_count': 218},\n",
       "  {'translations': [{'translation': 'negativo un punto cinco cinco siete X. uno lindo más doscientos cuatro punto ocho X. uno cuadrado más ocho mil novecientos sesenta y cinco X. uno más un punto tres siete veces diez a la potencia de cinco también podemos tener la regresión linear polinomio multidimensional la expresión puede complicarse aquí son sólo algunos de los términos para dos dimensiones de segundo orden polinomio ninguna empanadas función de poli fit no puede realizar este tipo de regresión que usamos el preproceso bibliotecario scikit aprender a crear un objeto de característica polinómica el constructor toma el grado del polinomio como un parámetro entonces nosotros transformar las características en una característica polinómica con el método de transformación de subrayado de ajuste vamos a hacer un ejemplo más intuitivo '}],\n",
       "   'word_count': 126,\n",
       "   'character_count': 731},\n",
       "  {'translations': [{'translation': 'considerar la característica mostrada aquí aplicando el método que transformamos los datos que ahora tenemos un nuevo conjunto de características que se transforman versión de nuestras características originales como que menciono de los datos se hace más grande que podemos querer normalizar múltiples características como scikit aprender en su lugar podemos utilizar el módulo de preproceso para simplificar muchas tareas por ejemplo podemos estandarizar cada característica simultáneamente importamos escalador estándar que formamos el objeto de escala y luego transformar los datos en un nuevo marco de datos en una velocidad X. subrayado escala hay más métodos de normalización disponibles en la biblioteca de pre-procesamiento también Como otras transformaciones podemos simplificar nuestro código mediante la utilización de una biblioteca de tuberías hay muchos pasos para obtener una predicción, por ejemplo, la normalización de la transformación polinómica y la regresión lineal simplificamos el proceso utilizando una interconexión '}],\n",
       "   'word_count': 143,\n",
       "   'character_count': 850},\n",
       "  {'translations': [{'translation': 'conducto secuencialmente realizar una serie de transformaciones el último paso lleva a cabo una predicción primero que importamos todos los módulos que necesitamos a continuación, importamos el conducto de la biblioteca que creamos una lista de los topples el primer elemento en la caída contiene el nombre del modelo estimador el segundo elemento contiene el constructor modelo que entramos la lista en el constructor de la tubería que ahora tenemos un objeto de la tubería que podemos entrenar la tubería mediante la aplicación del método del tren al objeto de la tubería también podemos producir una predicción también '}],\n",
       "   'word_count': 89,\n",
       "   'character_count': 515},\n",
       "  {'translations': [{'translation': 'el método normaliza los datos realiza una transformación polinómica y luego genera una predicción '}],\n",
       "   'word_count': 13,\n",
       "   'character_count': 89}]}"
      ]
     },
     "execution_count": 20,
     "metadata": {},
     "output_type": "execute_result"
    }
   ],
   "source": [
    "res={\"result\":[]}\n",
    "for x in text.values:\n",
    "    translation = language_translator.translate(\\\n",
    "        text=x[0], model_id='en-es')\n",
    "    res['result'].append(translation.get_result())\n",
    "res"
   ]
  },
  {
   "cell_type": "markdown",
   "metadata": {},
   "source": [
    "<p>The result is a dictionary.</p>\n"
   ]
  },
  {
   "cell_type": "code",
   "execution_count": 23,
   "metadata": {
    "collapsed": false,
    "jupyter": {
     "outputs_hidden": false
    }
   },
   "outputs": [
    {
     "data": {
      "text/html": [
       "<div>\n",
       "<style scoped>\n",
       "    .dataframe tbody tr th:only-of-type {\n",
       "        vertical-align: middle;\n",
       "    }\n",
       "\n",
       "    .dataframe tbody tr th {\n",
       "        vertical-align: top;\n",
       "    }\n",
       "\n",
       "    .dataframe thead th {\n",
       "        text-align: right;\n",
       "    }\n",
       "</style>\n",
       "<table border=\"1\" class=\"dataframe\">\n",
       "  <thead>\n",
       "    <tr style=\"text-align: right;\">\n",
       "      <th></th>\n",
       "      <th>translation</th>\n",
       "      <th>word_count</th>\n",
       "      <th>character_count</th>\n",
       "    </tr>\n",
       "  </thead>\n",
       "  <tbody>\n",
       "    <tr>\n",
       "      <th>0</th>\n",
       "      <td>en este vídeo cubriremos la regresión polinómi...</td>\n",
       "      <td>10</td>\n",
       "      <td>64</td>\n",
       "    </tr>\n",
       "    <tr>\n",
       "      <th>1</th>\n",
       "      <td>¿Qué hacemos cuando un modelo lineal no es el ...</td>\n",
       "      <td>55</td>\n",
       "      <td>302</td>\n",
       "    </tr>\n",
       "    <tr>\n",
       "      <th>2</th>\n",
       "      <td>La regresión polinómica es un caso especial de...</td>\n",
       "      <td>83</td>\n",
       "      <td>515</td>\n",
       "    </tr>\n",
       "    <tr>\n",
       "      <th>3</th>\n",
       "      <td>el modelo puede ser cúbico, lo que significa q...</td>\n",
       "      <td>31</td>\n",
       "      <td>180</td>\n",
       "    </tr>\n",
       "    <tr>\n",
       "      <th>4</th>\n",
       "      <td>también existe orden superior de regresiones p...</td>\n",
       "      <td>75</td>\n",
       "      <td>415</td>\n",
       "    </tr>\n",
       "    <tr>\n",
       "      <th>5</th>\n",
       "      <td>vamos a ver un ejemplo de nuestros datos que g...</td>\n",
       "      <td>15</td>\n",
       "      <td>81</td>\n",
       "    </tr>\n",
       "    <tr>\n",
       "      <th>6</th>\n",
       "      <td>En python hacemos esto usando la función de po...</td>\n",
       "      <td>40</td>\n",
       "      <td>218</td>\n",
       "    </tr>\n",
       "    <tr>\n",
       "      <th>7</th>\n",
       "      <td>negativo un punto cinco cinco siete X. uno lin...</td>\n",
       "      <td>126</td>\n",
       "      <td>731</td>\n",
       "    </tr>\n",
       "    <tr>\n",
       "      <th>8</th>\n",
       "      <td>considerar la característica mostrada aquí apl...</td>\n",
       "      <td>143</td>\n",
       "      <td>850</td>\n",
       "    </tr>\n",
       "    <tr>\n",
       "      <th>9</th>\n",
       "      <td>conducto secuencialmente realizar una serie de...</td>\n",
       "      <td>89</td>\n",
       "      <td>515</td>\n",
       "    </tr>\n",
       "    <tr>\n",
       "      <th>10</th>\n",
       "      <td>el método normaliza los datos realiza una tran...</td>\n",
       "      <td>13</td>\n",
       "      <td>89</td>\n",
       "    </tr>\n",
       "  </tbody>\n",
       "</table>\n",
       "</div>"
      ],
      "text/plain": [
       "                                          translation word_count  \\\n",
       "0   en este vídeo cubriremos la regresión polinómi...         10   \n",
       "1   ¿Qué hacemos cuando un modelo lineal no es el ...         55   \n",
       "2   La regresión polinómica es un caso especial de...         83   \n",
       "3   el modelo puede ser cúbico, lo que significa q...         31   \n",
       "4   también existe orden superior de regresiones p...         75   \n",
       "5   vamos a ver un ejemplo de nuestros datos que g...         15   \n",
       "6   En python hacemos esto usando la función de po...         40   \n",
       "7   negativo un punto cinco cinco siete X. uno lin...        126   \n",
       "8   considerar la característica mostrada aquí apl...        143   \n",
       "9   conducto secuencialmente realizar una serie de...         89   \n",
       "10  el método normaliza los datos realiza una tran...         13   \n",
       "\n",
       "   character_count  \n",
       "0               64  \n",
       "1              302  \n",
       "2              515  \n",
       "3              180  \n",
       "4              415  \n",
       "5               81  \n",
       "6              218  \n",
       "7              731  \n",
       "8              850  \n",
       "9              515  \n",
       "10              89  "
      ]
     },
     "execution_count": 23,
     "metadata": {},
     "output_type": "execute_result"
    }
   ],
   "source": [
    "\n",
    "json_normalize(res['result'],'translations',['word_count','character_count'])"
   ]
  },
  {
   "cell_type": "markdown",
   "metadata": {},
   "source": [
    "<p>We can obtain the actual translation as a string as follows:</p>\n"
   ]
  },
  {
   "cell_type": "code",
   "execution_count": 25,
   "metadata": {},
   "outputs": [
    {
     "data": {
      "text/plain": [
       "'en este vídeo cubriremos la regresión polinómica y las tuberías '"
      ]
     },
     "execution_count": 25,
     "metadata": {},
     "output_type": "execute_result"
    }
   ],
   "source": [
    "spanish_translation =res['result'][0]['translations'][0]['translation']\n",
    "spanish_translation "
   ]
  },
  {
   "cell_type": "markdown",
   "metadata": {},
   "source": [
    "<p>We can translate back to English</p>\n"
   ]
  },
  {
   "cell_type": "code",
   "execution_count": 26,
   "metadata": {},
   "outputs": [],
   "source": [
    "translation_new = language_translator.translate(text=spanish_translation ,model_id='es-en').get_result()"
   ]
  },
  {
   "cell_type": "markdown",
   "metadata": {},
   "source": [
    "<p>We can obtain the actual translation as a string as follows:</p>\n"
   ]
  },
  {
   "cell_type": "code",
   "execution_count": 27,
   "metadata": {},
   "outputs": [
    {
     "data": {
      "text/plain": [
       "'in this video we will cover the polynomial regression and the pipes '"
      ]
     },
     "execution_count": 27,
     "metadata": {},
     "output_type": "execute_result"
    }
   ],
   "source": [
    "translation_eng=translation_new['translations'][0]['translation']\n",
    "translation_eng"
   ]
  },
  {
   "cell_type": "markdown",
   "metadata": {},
   "source": [
    "<br>\n"
   ]
  },
  {
   "cell_type": "markdown",
   "metadata": {},
   "source": [
    "<h2>Quiz</h2>\n"
   ]
  },
  {
   "cell_type": "markdown",
   "metadata": {},
   "source": [
    "Translate to French.\n"
   ]
  },
  {
   "cell_type": "code",
   "execution_count": 28,
   "metadata": {},
   "outputs": [
    {
     "data": {
      "text/plain": [
       "'اس ویڈیو میں ہم کثیر رقمی رجعت اور پائپوں کا احاطہ کریں گے. '"
      ]
     },
     "execution_count": 28,
     "metadata": {},
     "output_type": "execute_result"
    }
   ],
   "source": [
    "# Write your code below and press Shift+Enter to execute\n",
    "translation_ur = language_translator.translate(text=translation_eng ,model_id='en-ur').get_result()\n",
    "translation_ur['translations'][0]['translation']"
   ]
  },
  {
   "cell_type": "markdown",
   "metadata": {},
   "source": [
    "<details><summary>Click here for the solution</summary>\n",
    "\n",
    "```python\n",
    "French_translation=language_translator.translate(\n",
    "    text=translation_eng , model_id='en-fr').get_result()\n",
    "\n",
    "French_translation['translations'][0]['translation']\n",
    "\n",
    "```\n",
    "\n",
    "</details>\n"
   ]
  },
  {
   "cell_type": "markdown",
   "metadata": {},
   "source": [
    "<h3>Language Translator</h3>\n"
   ]
  },
  {
   "cell_type": "markdown",
   "metadata": {},
   "source": [
    " <a href=\"https://cloud.ibm.com/catalog/services/watson-studio\"><img src=\"https://ibm.box.com/shared/static/irypdxea2q4th88zu1o1tsd06dya10go.png\" width=\"750\" align=\"center\"></a>\n"
   ]
  },
  {
   "cell_type": "markdown",
   "metadata": {},
   "source": [
    "<b>References</b>\n"
   ]
  },
  {
   "cell_type": "markdown",
   "metadata": {},
   "source": [
    "[https://cloud.ibm.com/apidocs/speech-to-text?code=python](https://cloud.ibm.com/apidocs/speech-to-text?code=python&cm_mmc=Email_Newsletter-_-Developer_Ed%2BTech-_-WW_WW-_-SkillsNetwork-Courses-IBMDeveloperSkillsNetwork-PY0101EN-SkillsNetwork-19487395&cm_mmca1=000026UJ&cm_mmca2=10006555&cm_mmca3=M12345678&cvosrc=email.Newsletter.M12345678&cvo_campaign=000026UJ)\n"
   ]
  },
  {
   "cell_type": "markdown",
   "metadata": {},
   "source": [
    "[https://cloud.ibm.com/apidocs/language-translator?code=python](https://cloud.ibm.com/apidocs/language-translator?code=python&cm_mmc=Email_Newsletter-_-Developer_Ed%2BTech-_-WW_WW-_-SkillsNetwork-Courses-IBMDeveloperSkillsNetwork-PY0101EN-SkillsNetwork-19487395&cm_mmca1=000026UJ&cm_mmca2=10006555&cm_mmca3=M12345678&cvosrc=email.Newsletter.M12345678&cvo_campaign=000026UJ)\n"
   ]
  },
  {
   "cell_type": "markdown",
   "metadata": {},
   "source": [
    "<hr>\n"
   ]
  },
  {
   "cell_type": "markdown",
   "metadata": {},
   "source": [
    "## Authors:\n",
    "\n",
    " [Joseph Santarcangelo](https://www.linkedin.com/in/joseph-s-50398b136?cm_mmc=Email_Newsletter-_-Developer_Ed%2BTech-_-WW_WW-_-SkillsNetwork-Courses-IBMDeveloperSkillsNetwork-PY0101EN-SkillsNetwork-19487395&cm_mmca1=000026UJ&cm_mmca2=10006555&cm_mmca3=M12345678&cvosrc=email.Newsletter.M12345678&cvo_campaign=000026UJ&cm_mmc=Email_Newsletter-_-Developer_Ed%2BTech-_-WW_WW-_-SkillsNetwork-Courses-IBMDeveloperSkillsNetwork-PY0101EN-SkillsNetwork-19487395&cm_mmca1=000026UJ&cm_mmca2=10006555&cm_mmca3=M12345678&cvosrc=email.Newsletter.M12345678&cvo_campaign=000026UJ) \n",
    "\n",
    "Joseph Santarcangelo has a PhD in Electrical Engineering, his research focused on using machine learning, signal processing, and computer vision to determine how videos impact human cognition. Joseph has been working for IBM since he completed his PhD.\n",
    "\n",
    "## Other Contributor(s)\n",
    "\n",
    "<a href=\"https://www.linkedin.com/in/fanjiang0619/\">Fan Jiang</a>\n",
    "\n",
    "## Change Log\n",
    "\n",
    "| Date (YYYY-MM-DD) | Version | Changed By | Change Description                 |\n",
    "| ----------------- | ------- | ---------- | ---------------------------------- |\n",
    "| 2021-01-05        | 2.1     | Malika     | Added a library                    |\n",
    "| 2020-08-26        | 2.0     | Lavanya    | Moved lab to course repo in GitLab |\n",
    "|                   |         |            |                                    |\n",
    "|                   |         |            |                                    |\n",
    "\n",
    "<hr/>\n",
    "\n",
    "## <h3 align=\"center\"> © IBM Corporation 2020. All rights reserved. <h3/>\n"
   ]
  }
 ],
 "metadata": {
  "kernelspec": {
   "display_name": "Python",
   "language": "python",
   "name": "conda-env-python-py"
  },
  "language_info": {
   "codemirror_mode": {
    "name": "ipython",
    "version": 3
   },
   "file_extension": ".py",
   "mimetype": "text/x-python",
   "name": "python",
   "nbconvert_exporter": "python",
   "pygments_lexer": "ipython3",
   "version": "3.6.12"
  }
 },
 "nbformat": 4,
 "nbformat_minor": 4
}
