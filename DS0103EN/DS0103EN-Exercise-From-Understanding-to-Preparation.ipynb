{
 "cells": [
  {
   "cell_type": "markdown",
   "metadata": {
    "button": false,
    "new_sheet": false,
    "run_control": {
     "read_only": false
    }
   },
   "source": [
    "<a href=\"https://cognitiveclass.ai\"><img src = \"https://cf-courses-data.s3.us.cloud-object-storage.appdomain.cloud/IBMDeveloperSkillsNetwork-DS0103EN-SkillsNetwork/labs/Module%203/images/IDSNlogo.png\" width = 400> </a>\n",
    "\n",
    "# From Understanding to Preparation\n",
    "\n",
    "Estimated time needed: **20** minutes\n",
    "\n",
    "## Objectives\n",
    "\n",
    "After completing this lab you will be able to:\n",
    "\n",
    "-   Understand Data \n",
    "-   Prepare Data for analysis and inference\n"
   ]
  },
  {
   "cell_type": "markdown",
   "metadata": {
    "button": false,
    "new_sheet": false,
    "run_control": {
     "read_only": false
    }
   },
   "source": [
    "## Introduction\n",
    "\n",
    "In this lab, we will continue learning about the data science methodology, and focus on the **Data Understanding** and the **Data Preparation** stages.\n"
   ]
  },
  {
   "cell_type": "markdown",
   "metadata": {
    "button": false,
    "new_sheet": false,
    "run_control": {
     "read_only": false
    }
   },
   "source": [
    "## Table of Contents\n",
    "\n",
    "<div class=\"alert alert-block alert-info\" style=\"margin-top: 20px\">\n",
    "    \n",
    "1. [Recap](#0)<br>\n",
    "2. [Data Understanding](#2)<br>\n",
    "3. [Data Preparation](#4)<br>\n",
    "</div>\n",
    "<hr>\n"
   ]
  },
  {
   "cell_type": "markdown",
   "metadata": {
    "button": false,
    "new_sheet": false,
    "run_control": {
     "read_only": false
    }
   },
   "source": [
    "# Recap <a id=\"0\"></a>\n"
   ]
  },
  {
   "cell_type": "markdown",
   "metadata": {
    "button": false,
    "new_sheet": false,
    "run_control": {
     "read_only": false
    }
   },
   "source": [
    "In Lab **From Requirements to Collection**, we learned that the data we need to answer the question developed in the business understanding stage, namely _can we automate the process of determining the cuisine of a given recipe?_, is readily available. A researcher named Yong-Yeol Ahn scraped tens of thousands of food recipes (cuisines and ingredients) from three different websites, namely:\n"
   ]
  },
  {
   "cell_type": "markdown",
   "metadata": {
    "button": false,
    "new_sheet": false,
    "run_control": {
     "read_only": false
    }
   },
   "source": [
    "<img src=\"https://cf-courses-data.s3.us.cloud-object-storage.appdomain.cloud/IBMDeveloperSkillsNetwork-DS0103EN-SkillsNetwork/labs/Module%202/images/lab2_fig3_allrecipes.png\" width=500>\n",
    "<div align=\"center\">\n",
    "www.allrecipes.com\n",
    "</div>\n",
    "<br/><br/>\n",
    "<img src=\"https://cf-courses-data.s3.us.cloud-object-storage.appdomain.cloud/IBMDeveloperSkillsNetwork-DS0103EN-SkillsNetwork/labs/Module%202/images/lab2_fig4_epicurious.png\" width=500>\n",
    "<div align=\"center\">\n",
    "www.epicurious.com\n",
    "</div>\n",
    "<br/><br/>\n",
    "<img src=\"https://cf-courses-data.s3.us.cloud-object-storage.appdomain.cloud/IBMDeveloperSkillsNetwork-DS0103EN-SkillsNetwork/labs/Module%202/images/lab2_fig5_menupan.png\" width=500>\n",
    "<div align=\"center\">\n",
    "www.menupan.com\n",
    "</div>\n",
    "<br/><br/>\n"
   ]
  },
  {
   "cell_type": "markdown",
   "metadata": {
    "button": false,
    "new_sheet": false,
    "run_control": {
     "read_only": false
    }
   },
   "source": [
    "For more information on Yong-Yeol Ahn and his research, you can read his paper on [Flavor Network and the Principles of Food Pairing](http://yongyeol.com/papers/ahn-flavornet-2011.pdf?utm_email=Email&utm_source=Nurture&utm_content=000026UJ&utm_term=10006555&utm_campaign=PLACEHOLDER&utm_id=SkillsNetwork-Courses-IBMDeveloperSkillsNetwork-DS0103EN-SkillsNetwork-20083987).\n"
   ]
  },
  {
   "cell_type": "markdown",
   "metadata": {
    "button": false,
    "new_sheet": false,
    "run_control": {
     "read_only": false
    }
   },
   "source": [
    "We also collected the data and placed it on an IBM server for your convenience.\n",
    "\n",
    "* * *\n"
   ]
  },
  {
   "cell_type": "markdown",
   "metadata": {
    "button": false,
    "new_sheet": false,
    "run_control": {
     "read_only": false
    }
   },
   "source": [
    "# Data Understanding <a id=\"2\"></a>\n"
   ]
  },
  {
   "cell_type": "markdown",
   "metadata": {
    "button": false,
    "new_sheet": false,
    "run_control": {
     "read_only": false
    }
   },
   "source": [
    "<img src=\"https://cf-courses-data.s3.us.cloud-object-storage.appdomain.cloud/IBMDeveloperSkillsNetwork-DS0103EN-SkillsNetwork/labs/Module%203/images/flowchart_data_understanding.png\" width=500>\n"
   ]
  },
  {
   "cell_type": "markdown",
   "metadata": {
    "button": false,
    "new_sheet": false,
    "run_control": {
     "read_only": false
    }
   },
   "source": [
    "<strong>Important note:</strong> Please note that you are not expected to know how to program in python. The following code is meant to illustrate the stage of data collection, so it is totally fine if you do not understand the individual lines of code. There will be a full course in this certificate on programming in python, <a href=\"http://cocl.us/PY0101EN_DS0103EN_LAB3_PYTHON_edX\">Python for Data Science</a>, which will teach you how to program in Python if you decide to complete this certificate.\n"
   ]
  },
  {
   "cell_type": "markdown",
   "metadata": {
    "button": false,
    "new_sheet": false,
    "run_control": {
     "read_only": false
    }
   },
   "source": [
    "### Using this notebook:\n",
    "\n",
    "To run any of the following cells of code, you can type **Shift + Enter** to excute the code in a cell.\n"
   ]
  },
  {
   "cell_type": "markdown",
   "metadata": {
    "button": false,
    "new_sheet": false,
    "run_control": {
     "read_only": false
    }
   },
   "source": [
    "Get the version of Python installed.\n"
   ]
  },
  {
   "cell_type": "code",
   "execution_count": 1,
   "metadata": {
    "button": false,
    "new_sheet": false,
    "run_control": {
     "read_only": false
    },
    "tags": []
   },
   "outputs": [
    {
     "name": "stdout",
     "output_type": "stream",
     "text": [
      "Python 3.6.13\n"
     ]
    }
   ],
   "source": [
    "# check Python version\n",
    "!python -V"
   ]
  },
  {
   "cell_type": "markdown",
   "metadata": {
    "button": false,
    "new_sheet": false,
    "run_control": {
     "read_only": false
    }
   },
   "source": [
    "Download the library and dependencies that we will need to run this lab.\n"
   ]
  },
  {
   "cell_type": "code",
   "execution_count": 1,
   "metadata": {
    "button": false,
    "new_sheet": false,
    "run_control": {
     "read_only": false
    },
    "tags": []
   },
   "outputs": [],
   "source": [
    "import pandas as pd # import library to read data into dataframe\n",
    "pd.set_option('display.max_columns', 12)\n",
    "import numpy as np # import numpy library\n",
    "import re # import library for regular expression"
   ]
  },
  {
   "cell_type": "markdown",
   "metadata": {
    "button": false,
    "new_sheet": false,
    "run_control": {
     "read_only": false
    }
   },
   "source": [
    "Download the data from the IBM server and read it into a _pandas_ dataframe.\n"
   ]
  },
  {
   "cell_type": "code",
   "execution_count": 2,
   "metadata": {
    "button": false,
    "new_sheet": false,
    "run_control": {
     "read_only": false
    },
    "tags": []
   },
   "outputs": [
    {
     "name": "stdout",
     "output_type": "stream",
     "text": [
      "Data read into dataframe!\n"
     ]
    }
   ],
   "source": [
    "recipes = pd.read_csv(\"https://cf-courses-data.s3.us.cloud-object-storage.appdomain.cloud/IBMDeveloperSkillsNetwork-DS0103EN-SkillsNetwork/labs/Module%202/recipes.csv\")\n",
    "\n",
    "print(\"Data read into dataframe!\") # takes about 30 seconds"
   ]
  },
  {
   "cell_type": "markdown",
   "metadata": {
    "button": false,
    "new_sheet": false,
    "run_control": {
     "read_only": false
    }
   },
   "source": [
    "Show the first few rows.\n"
   ]
  },
  {
   "cell_type": "code",
   "execution_count": 4,
   "metadata": {
    "button": false,
    "new_sheet": false,
    "run_control": {
     "read_only": false
    },
    "tags": []
   },
   "outputs": [
    {
     "data": {
      "text/html": [
       "<div>\n",
       "<style scoped>\n",
       "    .dataframe tbody tr th:only-of-type {\n",
       "        vertical-align: middle;\n",
       "    }\n",
       "\n",
       "    .dataframe tbody tr th {\n",
       "        vertical-align: top;\n",
       "    }\n",
       "\n",
       "    .dataframe thead th {\n",
       "        text-align: right;\n",
       "    }\n",
       "</style>\n",
       "<table border=\"1\" class=\"dataframe\">\n",
       "  <thead>\n",
       "    <tr style=\"text-align: right;\">\n",
       "      <th></th>\n",
       "      <th>country</th>\n",
       "      <th>almond</th>\n",
       "      <th>angelica</th>\n",
       "      <th>anise</th>\n",
       "      <th>anise_seed</th>\n",
       "      <th>apple</th>\n",
       "      <th>...</th>\n",
       "      <th>wine</th>\n",
       "      <th>wood</th>\n",
       "      <th>yam</th>\n",
       "      <th>yeast</th>\n",
       "      <th>yogurt</th>\n",
       "      <th>zucchini</th>\n",
       "    </tr>\n",
       "  </thead>\n",
       "  <tbody>\n",
       "    <tr>\n",
       "      <th>0</th>\n",
       "      <td>Vietnamese</td>\n",
       "      <td>No</td>\n",
       "      <td>No</td>\n",
       "      <td>No</td>\n",
       "      <td>No</td>\n",
       "      <td>No</td>\n",
       "      <td>...</td>\n",
       "      <td>No</td>\n",
       "      <td>No</td>\n",
       "      <td>No</td>\n",
       "      <td>No</td>\n",
       "      <td>No</td>\n",
       "      <td>No</td>\n",
       "    </tr>\n",
       "    <tr>\n",
       "      <th>1</th>\n",
       "      <td>Vietnamese</td>\n",
       "      <td>No</td>\n",
       "      <td>No</td>\n",
       "      <td>No</td>\n",
       "      <td>No</td>\n",
       "      <td>No</td>\n",
       "      <td>...</td>\n",
       "      <td>No</td>\n",
       "      <td>No</td>\n",
       "      <td>No</td>\n",
       "      <td>No</td>\n",
       "      <td>No</td>\n",
       "      <td>No</td>\n",
       "    </tr>\n",
       "    <tr>\n",
       "      <th>2</th>\n",
       "      <td>Vietnamese</td>\n",
       "      <td>No</td>\n",
       "      <td>No</td>\n",
       "      <td>No</td>\n",
       "      <td>No</td>\n",
       "      <td>No</td>\n",
       "      <td>...</td>\n",
       "      <td>No</td>\n",
       "      <td>No</td>\n",
       "      <td>No</td>\n",
       "      <td>No</td>\n",
       "      <td>No</td>\n",
       "      <td>No</td>\n",
       "    </tr>\n",
       "    <tr>\n",
       "      <th>3</th>\n",
       "      <td>Vietnamese</td>\n",
       "      <td>No</td>\n",
       "      <td>No</td>\n",
       "      <td>No</td>\n",
       "      <td>No</td>\n",
       "      <td>No</td>\n",
       "      <td>...</td>\n",
       "      <td>No</td>\n",
       "      <td>No</td>\n",
       "      <td>No</td>\n",
       "      <td>No</td>\n",
       "      <td>No</td>\n",
       "      <td>No</td>\n",
       "    </tr>\n",
       "    <tr>\n",
       "      <th>4</th>\n",
       "      <td>Vietnamese</td>\n",
       "      <td>No</td>\n",
       "      <td>No</td>\n",
       "      <td>No</td>\n",
       "      <td>No</td>\n",
       "      <td>No</td>\n",
       "      <td>...</td>\n",
       "      <td>No</td>\n",
       "      <td>No</td>\n",
       "      <td>No</td>\n",
       "      <td>No</td>\n",
       "      <td>No</td>\n",
       "      <td>No</td>\n",
       "    </tr>\n",
       "  </tbody>\n",
       "</table>\n",
       "<p>5 rows × 384 columns</p>\n",
       "</div>"
      ],
      "text/plain": [
       "      country almond angelica anise anise_seed apple  ... wine wood yam yeast  \\\n",
       "0  Vietnamese     No       No    No         No    No  ...   No   No  No    No   \n",
       "1  Vietnamese     No       No    No         No    No  ...   No   No  No    No   \n",
       "2  Vietnamese     No       No    No         No    No  ...   No   No  No    No   \n",
       "3  Vietnamese     No       No    No         No    No  ...   No   No  No    No   \n",
       "4  Vietnamese     No       No    No         No    No  ...   No   No  No    No   \n",
       "\n",
       "  yogurt zucchini  \n",
       "0     No       No  \n",
       "1     No       No  \n",
       "2     No       No  \n",
       "3     No       No  \n",
       "4     No       No  \n",
       "\n",
       "[5 rows x 384 columns]"
      ]
     },
     "execution_count": 4,
     "metadata": {},
     "output_type": "execute_result"
    }
   ],
   "source": [
    "recipes.head()"
   ]
  },
  {
   "cell_type": "markdown",
   "metadata": {
    "button": false,
    "new_sheet": false,
    "run_control": {
     "read_only": false
    }
   },
   "source": [
    "Get the dimensions of the dataframe.\n"
   ]
  },
  {
   "cell_type": "code",
   "execution_count": 5,
   "metadata": {
    "button": false,
    "new_sheet": false,
    "run_control": {
     "read_only": false
    },
    "tags": []
   },
   "outputs": [
    {
     "data": {
      "text/plain": [
       "(57691, 384)"
      ]
     },
     "execution_count": 5,
     "metadata": {},
     "output_type": "execute_result"
    }
   ],
   "source": [
    "recipes.shape"
   ]
  },
  {
   "cell_type": "markdown",
   "metadata": {
    "button": false,
    "new_sheet": false,
    "run_control": {
     "read_only": false
    }
   },
   "source": [
    "So our dataset consists of 57,691 recipes. Each row represents a recipe, and for each recipe, the corresponding cuisine is documented as well as whether 384 ingredients exist in the recipe or not, beginning with almond and ending with zucchini.\n"
   ]
  },
  {
   "cell_type": "markdown",
   "metadata": {
    "button": false,
    "new_sheet": false,
    "run_control": {
     "read_only": false
    }
   },
   "source": [
    "We know that a basic sushi recipe includes the ingredients:\n",
    "\n",
    "-   rice\n",
    "-   soy sauce\n",
    "-   wasabi\n",
    "-   some fish/vegetables\n"
   ]
  },
  {
   "cell_type": "markdown",
   "metadata": {
    "button": false,
    "new_sheet": false,
    "run_control": {
     "read_only": false
    }
   },
   "source": [
    "Let's check that these ingredients exist in our dataframe:\n"
   ]
  },
  {
   "cell_type": "code",
   "execution_count": 3,
   "metadata": {
    "button": false,
    "new_sheet": false,
    "run_control": {
     "read_only": false
    },
    "tags": []
   },
   "outputs": [
    {
     "name": "stdout",
     "output_type": "stream",
     "text": [
      "['brown_rice', 'licorice', 'rice']\n",
      "['wasabi']\n",
      "['soy_sauce', 'soybean', 'soybean_oil']\n"
     ]
    }
   ],
   "source": [
    "ingredients = list(recipes.columns.values)\n",
    "\n",
    "print([match.group(0) for ingredient in ingredients for match in [(re.compile(\".*(rice).*\")).search(ingredient)] if match])\n",
    "print([match.group(0) for ingredient in ingredients for match in [(re.compile(\".*(wasabi).*\")).search(ingredient)] if match])\n",
    "print([match.group(0) for ingredient in ingredients for match in [(re.compile(\".*(soy).*\")).search(ingredient)] if match])"
   ]
  },
  {
   "cell_type": "markdown",
   "metadata": {
    "button": false,
    "new_sheet": false,
    "run_control": {
     "read_only": false
    }
   },
   "source": [
    "Yes, they do!\n",
    "\n",
    "-   rice exists as rice.\n",
    "-   wasabi exists as wasabi.\n",
    "-   soy exists as soy_sauce.\n",
    "\n",
    "So maybe if a recipe contains all three ingredients: rice, wasabi, and soy_sauce, then we can confidently say that the recipe is a **Japanese** cuisine! Let's keep this in mind!\n",
    "\n",
    "* * *\n"
   ]
  },
  {
   "cell_type": "markdown",
   "metadata": {
    "button": false,
    "new_sheet": false,
    "run_control": {
     "read_only": false
    }
   },
   "source": [
    "# Data Preparation <a id=\"4\"></a>\n"
   ]
  },
  {
   "cell_type": "markdown",
   "metadata": {
    "button": false,
    "new_sheet": false,
    "run_control": {
     "read_only": false
    }
   },
   "source": [
    "<img src=\"https://cf-courses-data.s3.us.cloud-object-storage.appdomain.cloud/IBMDeveloperSkillsNetwork-DS0103EN-SkillsNetwork/labs/Module%203/images/lab3_fig5_flowchart_data_preparation.png\" width=500>\n"
   ]
  },
  {
   "cell_type": "markdown",
   "metadata": {
    "button": false,
    "new_sheet": false,
    "run_control": {
     "read_only": false
    }
   },
   "source": [
    "In this section, we will prepare data for the next stage in the data science methodology, which is modeling. This stage involves exploring the data further and making sure that it is in the right format for the machine learning algorithm that we selected in the analytic approach stage, which is decision trees.\n"
   ]
  },
  {
   "cell_type": "markdown",
   "metadata": {
    "button": false,
    "new_sheet": false,
    "run_control": {
     "read_only": false
    }
   },
   "source": [
    "First, look at the data to see if it needs cleaning.\n"
   ]
  },
  {
   "cell_type": "code",
   "execution_count": 4,
   "metadata": {
    "button": false,
    "new_sheet": false,
    "run_control": {
     "read_only": false
    },
    "tags": []
   },
   "outputs": [
    {
     "data": {
      "text/plain": [
       "American        40150\n",
       "Mexico           1754\n",
       "Italian          1715\n",
       "Italy            1461\n",
       "Asian            1176\n",
       "                ...  \n",
       "Indonesia          12\n",
       "Belgium            11\n",
       "East-African       11\n",
       "Israel              9\n",
       "Bangladesh          4\n",
       "Name: country, Length: 69, dtype: int64"
      ]
     },
     "execution_count": 4,
     "metadata": {},
     "output_type": "execute_result"
    }
   ],
   "source": [
    "recipes[\"country\"].value_counts() # frequency table"
   ]
  },
  {
   "cell_type": "markdown",
   "metadata": {
    "button": false,
    "new_sheet": false,
    "run_control": {
     "read_only": false
    }
   },
   "source": [
    "By looking at the above table, we can make the following observations:\n",
    "\n",
    "1.  Cuisine column is labeled as Country, which is inaccurate.\n",
    "2.  Cuisine names are not consistent as not all of them start with an uppercase first letter.\n",
    "3.  Some cuisines are duplicated as variation of the country name, such as Vietnam and Vietnamese.\n",
    "4.  Some cuisines have very few recipes.\n"
   ]
  },
  {
   "cell_type": "markdown",
   "metadata": {
    "button": false,
    "new_sheet": false,
    "run_control": {
     "read_only": false
    }
   },
   "source": [
    "#### Let's fix these problems.\n"
   ]
  },
  {
   "cell_type": "markdown",
   "metadata": {
    "button": false,
    "new_sheet": false,
    "run_control": {
     "read_only": false
    }
   },
   "source": [
    "Fix the name of the column showing the cuisine.\n"
   ]
  },
  {
   "cell_type": "code",
   "execution_count": 5,
   "metadata": {
    "button": false,
    "new_sheet": false,
    "run_control": {
     "read_only": false
    },
    "tags": []
   },
   "outputs": [
    {
     "data": {
      "text/html": [
       "<div>\n",
       "<style scoped>\n",
       "    .dataframe tbody tr th:only-of-type {\n",
       "        vertical-align: middle;\n",
       "    }\n",
       "\n",
       "    .dataframe tbody tr th {\n",
       "        vertical-align: top;\n",
       "    }\n",
       "\n",
       "    .dataframe thead th {\n",
       "        text-align: right;\n",
       "    }\n",
       "</style>\n",
       "<table border=\"1\" class=\"dataframe\">\n",
       "  <thead>\n",
       "    <tr style=\"text-align: right;\">\n",
       "      <th></th>\n",
       "      <th>cuisine</th>\n",
       "      <th>almond</th>\n",
       "      <th>angelica</th>\n",
       "      <th>anise</th>\n",
       "      <th>anise_seed</th>\n",
       "      <th>apple</th>\n",
       "      <th>...</th>\n",
       "      <th>wine</th>\n",
       "      <th>wood</th>\n",
       "      <th>yam</th>\n",
       "      <th>yeast</th>\n",
       "      <th>yogurt</th>\n",
       "      <th>zucchini</th>\n",
       "    </tr>\n",
       "  </thead>\n",
       "  <tbody>\n",
       "    <tr>\n",
       "      <th>0</th>\n",
       "      <td>Vietnamese</td>\n",
       "      <td>No</td>\n",
       "      <td>No</td>\n",
       "      <td>No</td>\n",
       "      <td>No</td>\n",
       "      <td>No</td>\n",
       "      <td>...</td>\n",
       "      <td>No</td>\n",
       "      <td>No</td>\n",
       "      <td>No</td>\n",
       "      <td>No</td>\n",
       "      <td>No</td>\n",
       "      <td>No</td>\n",
       "    </tr>\n",
       "    <tr>\n",
       "      <th>1</th>\n",
       "      <td>Vietnamese</td>\n",
       "      <td>No</td>\n",
       "      <td>No</td>\n",
       "      <td>No</td>\n",
       "      <td>No</td>\n",
       "      <td>No</td>\n",
       "      <td>...</td>\n",
       "      <td>No</td>\n",
       "      <td>No</td>\n",
       "      <td>No</td>\n",
       "      <td>No</td>\n",
       "      <td>No</td>\n",
       "      <td>No</td>\n",
       "    </tr>\n",
       "    <tr>\n",
       "      <th>2</th>\n",
       "      <td>Vietnamese</td>\n",
       "      <td>No</td>\n",
       "      <td>No</td>\n",
       "      <td>No</td>\n",
       "      <td>No</td>\n",
       "      <td>No</td>\n",
       "      <td>...</td>\n",
       "      <td>No</td>\n",
       "      <td>No</td>\n",
       "      <td>No</td>\n",
       "      <td>No</td>\n",
       "      <td>No</td>\n",
       "      <td>No</td>\n",
       "    </tr>\n",
       "    <tr>\n",
       "      <th>3</th>\n",
       "      <td>Vietnamese</td>\n",
       "      <td>No</td>\n",
       "      <td>No</td>\n",
       "      <td>No</td>\n",
       "      <td>No</td>\n",
       "      <td>No</td>\n",
       "      <td>...</td>\n",
       "      <td>No</td>\n",
       "      <td>No</td>\n",
       "      <td>No</td>\n",
       "      <td>No</td>\n",
       "      <td>No</td>\n",
       "      <td>No</td>\n",
       "    </tr>\n",
       "    <tr>\n",
       "      <th>4</th>\n",
       "      <td>Vietnamese</td>\n",
       "      <td>No</td>\n",
       "      <td>No</td>\n",
       "      <td>No</td>\n",
       "      <td>No</td>\n",
       "      <td>No</td>\n",
       "      <td>...</td>\n",
       "      <td>No</td>\n",
       "      <td>No</td>\n",
       "      <td>No</td>\n",
       "      <td>No</td>\n",
       "      <td>No</td>\n",
       "      <td>No</td>\n",
       "    </tr>\n",
       "    <tr>\n",
       "      <th>...</th>\n",
       "      <td>...</td>\n",
       "      <td>...</td>\n",
       "      <td>...</td>\n",
       "      <td>...</td>\n",
       "      <td>...</td>\n",
       "      <td>...</td>\n",
       "      <td>...</td>\n",
       "      <td>...</td>\n",
       "      <td>...</td>\n",
       "      <td>...</td>\n",
       "      <td>...</td>\n",
       "      <td>...</td>\n",
       "      <td>...</td>\n",
       "    </tr>\n",
       "    <tr>\n",
       "      <th>57686</th>\n",
       "      <td>Japan</td>\n",
       "      <td>No</td>\n",
       "      <td>No</td>\n",
       "      <td>No</td>\n",
       "      <td>No</td>\n",
       "      <td>No</td>\n",
       "      <td>...</td>\n",
       "      <td>No</td>\n",
       "      <td>No</td>\n",
       "      <td>No</td>\n",
       "      <td>No</td>\n",
       "      <td>No</td>\n",
       "      <td>No</td>\n",
       "    </tr>\n",
       "    <tr>\n",
       "      <th>57687</th>\n",
       "      <td>Japan</td>\n",
       "      <td>No</td>\n",
       "      <td>No</td>\n",
       "      <td>No</td>\n",
       "      <td>No</td>\n",
       "      <td>No</td>\n",
       "      <td>...</td>\n",
       "      <td>No</td>\n",
       "      <td>No</td>\n",
       "      <td>No</td>\n",
       "      <td>No</td>\n",
       "      <td>No</td>\n",
       "      <td>No</td>\n",
       "    </tr>\n",
       "    <tr>\n",
       "      <th>57688</th>\n",
       "      <td>Japan</td>\n",
       "      <td>No</td>\n",
       "      <td>No</td>\n",
       "      <td>No</td>\n",
       "      <td>No</td>\n",
       "      <td>No</td>\n",
       "      <td>...</td>\n",
       "      <td>No</td>\n",
       "      <td>No</td>\n",
       "      <td>No</td>\n",
       "      <td>No</td>\n",
       "      <td>No</td>\n",
       "      <td>No</td>\n",
       "    </tr>\n",
       "    <tr>\n",
       "      <th>57689</th>\n",
       "      <td>Japan</td>\n",
       "      <td>No</td>\n",
       "      <td>No</td>\n",
       "      <td>No</td>\n",
       "      <td>No</td>\n",
       "      <td>No</td>\n",
       "      <td>...</td>\n",
       "      <td>No</td>\n",
       "      <td>No</td>\n",
       "      <td>No</td>\n",
       "      <td>No</td>\n",
       "      <td>No</td>\n",
       "      <td>No</td>\n",
       "    </tr>\n",
       "    <tr>\n",
       "      <th>57690</th>\n",
       "      <td>Japan</td>\n",
       "      <td>No</td>\n",
       "      <td>No</td>\n",
       "      <td>No</td>\n",
       "      <td>No</td>\n",
       "      <td>No</td>\n",
       "      <td>...</td>\n",
       "      <td>No</td>\n",
       "      <td>No</td>\n",
       "      <td>No</td>\n",
       "      <td>No</td>\n",
       "      <td>No</td>\n",
       "      <td>No</td>\n",
       "    </tr>\n",
       "  </tbody>\n",
       "</table>\n",
       "<p>57691 rows × 384 columns</p>\n",
       "</div>"
      ],
      "text/plain": [
       "          cuisine almond angelica anise anise_seed apple  ... wine wood yam  \\\n",
       "0      Vietnamese     No       No    No         No    No  ...   No   No  No   \n",
       "1      Vietnamese     No       No    No         No    No  ...   No   No  No   \n",
       "2      Vietnamese     No       No    No         No    No  ...   No   No  No   \n",
       "3      Vietnamese     No       No    No         No    No  ...   No   No  No   \n",
       "4      Vietnamese     No       No    No         No    No  ...   No   No  No   \n",
       "...           ...    ...      ...   ...        ...   ...  ...  ...  ...  ..   \n",
       "57686       Japan     No       No    No         No    No  ...   No   No  No   \n",
       "57687       Japan     No       No    No         No    No  ...   No   No  No   \n",
       "57688       Japan     No       No    No         No    No  ...   No   No  No   \n",
       "57689       Japan     No       No    No         No    No  ...   No   No  No   \n",
       "57690       Japan     No       No    No         No    No  ...   No   No  No   \n",
       "\n",
       "      yeast yogurt zucchini  \n",
       "0        No     No       No  \n",
       "1        No     No       No  \n",
       "2        No     No       No  \n",
       "3        No     No       No  \n",
       "4        No     No       No  \n",
       "...     ...    ...      ...  \n",
       "57686    No     No       No  \n",
       "57687    No     No       No  \n",
       "57688    No     No       No  \n",
       "57689    No     No       No  \n",
       "57690    No     No       No  \n",
       "\n",
       "[57691 rows x 384 columns]"
      ]
     },
     "execution_count": 5,
     "metadata": {},
     "output_type": "execute_result"
    }
   ],
   "source": [
    "column_names = recipes.columns.values\n",
    "column_names[0] = \"cuisine\"\n",
    "recipes.columns = column_names\n",
    "\n",
    "recipes"
   ]
  },
  {
   "cell_type": "markdown",
   "metadata": {
    "button": false,
    "new_sheet": false,
    "run_control": {
     "read_only": false
    }
   },
   "source": [
    "Make all the cuisine names lowercase.\n"
   ]
  },
  {
   "cell_type": "code",
   "execution_count": 6,
   "metadata": {
    "button": false,
    "new_sheet": false,
    "run_control": {
     "read_only": false
    },
    "tags": []
   },
   "outputs": [],
   "source": [
    "recipes[\"cuisine\"] = recipes[\"cuisine\"].str.lower()"
   ]
  },
  {
   "cell_type": "markdown",
   "metadata": {
    "button": false,
    "new_sheet": false,
    "run_control": {
     "read_only": false
    }
   },
   "source": [
    "Make the cuisine names consistent.\n"
   ]
  },
  {
   "cell_type": "code",
   "execution_count": 7,
   "metadata": {
    "button": false,
    "new_sheet": false,
    "run_control": {
     "read_only": false
    },
    "tags": []
   },
   "outputs": [
    {
     "data": {
      "text/html": [
       "<div>\n",
       "<style scoped>\n",
       "    .dataframe tbody tr th:only-of-type {\n",
       "        vertical-align: middle;\n",
       "    }\n",
       "\n",
       "    .dataframe tbody tr th {\n",
       "        vertical-align: top;\n",
       "    }\n",
       "\n",
       "    .dataframe thead th {\n",
       "        text-align: right;\n",
       "    }\n",
       "</style>\n",
       "<table border=\"1\" class=\"dataframe\">\n",
       "  <thead>\n",
       "    <tr style=\"text-align: right;\">\n",
       "      <th></th>\n",
       "      <th>cuisine</th>\n",
       "      <th>almond</th>\n",
       "      <th>angelica</th>\n",
       "      <th>anise</th>\n",
       "      <th>anise_seed</th>\n",
       "      <th>apple</th>\n",
       "      <th>...</th>\n",
       "      <th>wine</th>\n",
       "      <th>wood</th>\n",
       "      <th>yam</th>\n",
       "      <th>yeast</th>\n",
       "      <th>yogurt</th>\n",
       "      <th>zucchini</th>\n",
       "    </tr>\n",
       "  </thead>\n",
       "  <tbody>\n",
       "    <tr>\n",
       "      <th>0</th>\n",
       "      <td>vietnamese</td>\n",
       "      <td>No</td>\n",
       "      <td>No</td>\n",
       "      <td>No</td>\n",
       "      <td>No</td>\n",
       "      <td>No</td>\n",
       "      <td>...</td>\n",
       "      <td>No</td>\n",
       "      <td>No</td>\n",
       "      <td>No</td>\n",
       "      <td>No</td>\n",
       "      <td>No</td>\n",
       "      <td>No</td>\n",
       "    </tr>\n",
       "    <tr>\n",
       "      <th>1</th>\n",
       "      <td>vietnamese</td>\n",
       "      <td>No</td>\n",
       "      <td>No</td>\n",
       "      <td>No</td>\n",
       "      <td>No</td>\n",
       "      <td>No</td>\n",
       "      <td>...</td>\n",
       "      <td>No</td>\n",
       "      <td>No</td>\n",
       "      <td>No</td>\n",
       "      <td>No</td>\n",
       "      <td>No</td>\n",
       "      <td>No</td>\n",
       "    </tr>\n",
       "    <tr>\n",
       "      <th>2</th>\n",
       "      <td>vietnamese</td>\n",
       "      <td>No</td>\n",
       "      <td>No</td>\n",
       "      <td>No</td>\n",
       "      <td>No</td>\n",
       "      <td>No</td>\n",
       "      <td>...</td>\n",
       "      <td>No</td>\n",
       "      <td>No</td>\n",
       "      <td>No</td>\n",
       "      <td>No</td>\n",
       "      <td>No</td>\n",
       "      <td>No</td>\n",
       "    </tr>\n",
       "    <tr>\n",
       "      <th>3</th>\n",
       "      <td>vietnamese</td>\n",
       "      <td>No</td>\n",
       "      <td>No</td>\n",
       "      <td>No</td>\n",
       "      <td>No</td>\n",
       "      <td>No</td>\n",
       "      <td>...</td>\n",
       "      <td>No</td>\n",
       "      <td>No</td>\n",
       "      <td>No</td>\n",
       "      <td>No</td>\n",
       "      <td>No</td>\n",
       "      <td>No</td>\n",
       "    </tr>\n",
       "    <tr>\n",
       "      <th>4</th>\n",
       "      <td>vietnamese</td>\n",
       "      <td>No</td>\n",
       "      <td>No</td>\n",
       "      <td>No</td>\n",
       "      <td>No</td>\n",
       "      <td>No</td>\n",
       "      <td>...</td>\n",
       "      <td>No</td>\n",
       "      <td>No</td>\n",
       "      <td>No</td>\n",
       "      <td>No</td>\n",
       "      <td>No</td>\n",
       "      <td>No</td>\n",
       "    </tr>\n",
       "    <tr>\n",
       "      <th>...</th>\n",
       "      <td>...</td>\n",
       "      <td>...</td>\n",
       "      <td>...</td>\n",
       "      <td>...</td>\n",
       "      <td>...</td>\n",
       "      <td>...</td>\n",
       "      <td>...</td>\n",
       "      <td>...</td>\n",
       "      <td>...</td>\n",
       "      <td>...</td>\n",
       "      <td>...</td>\n",
       "      <td>...</td>\n",
       "      <td>...</td>\n",
       "    </tr>\n",
       "    <tr>\n",
       "      <th>57686</th>\n",
       "      <td>japanese</td>\n",
       "      <td>No</td>\n",
       "      <td>No</td>\n",
       "      <td>No</td>\n",
       "      <td>No</td>\n",
       "      <td>No</td>\n",
       "      <td>...</td>\n",
       "      <td>No</td>\n",
       "      <td>No</td>\n",
       "      <td>No</td>\n",
       "      <td>No</td>\n",
       "      <td>No</td>\n",
       "      <td>No</td>\n",
       "    </tr>\n",
       "    <tr>\n",
       "      <th>57687</th>\n",
       "      <td>japanese</td>\n",
       "      <td>No</td>\n",
       "      <td>No</td>\n",
       "      <td>No</td>\n",
       "      <td>No</td>\n",
       "      <td>No</td>\n",
       "      <td>...</td>\n",
       "      <td>No</td>\n",
       "      <td>No</td>\n",
       "      <td>No</td>\n",
       "      <td>No</td>\n",
       "      <td>No</td>\n",
       "      <td>No</td>\n",
       "    </tr>\n",
       "    <tr>\n",
       "      <th>57688</th>\n",
       "      <td>japanese</td>\n",
       "      <td>No</td>\n",
       "      <td>No</td>\n",
       "      <td>No</td>\n",
       "      <td>No</td>\n",
       "      <td>No</td>\n",
       "      <td>...</td>\n",
       "      <td>No</td>\n",
       "      <td>No</td>\n",
       "      <td>No</td>\n",
       "      <td>No</td>\n",
       "      <td>No</td>\n",
       "      <td>No</td>\n",
       "    </tr>\n",
       "    <tr>\n",
       "      <th>57689</th>\n",
       "      <td>japanese</td>\n",
       "      <td>No</td>\n",
       "      <td>No</td>\n",
       "      <td>No</td>\n",
       "      <td>No</td>\n",
       "      <td>No</td>\n",
       "      <td>...</td>\n",
       "      <td>No</td>\n",
       "      <td>No</td>\n",
       "      <td>No</td>\n",
       "      <td>No</td>\n",
       "      <td>No</td>\n",
       "      <td>No</td>\n",
       "    </tr>\n",
       "    <tr>\n",
       "      <th>57690</th>\n",
       "      <td>japanese</td>\n",
       "      <td>No</td>\n",
       "      <td>No</td>\n",
       "      <td>No</td>\n",
       "      <td>No</td>\n",
       "      <td>No</td>\n",
       "      <td>...</td>\n",
       "      <td>No</td>\n",
       "      <td>No</td>\n",
       "      <td>No</td>\n",
       "      <td>No</td>\n",
       "      <td>No</td>\n",
       "      <td>No</td>\n",
       "    </tr>\n",
       "  </tbody>\n",
       "</table>\n",
       "<p>57691 rows × 384 columns</p>\n",
       "</div>"
      ],
      "text/plain": [
       "          cuisine almond angelica anise anise_seed apple  ... wine wood yam  \\\n",
       "0      vietnamese     No       No    No         No    No  ...   No   No  No   \n",
       "1      vietnamese     No       No    No         No    No  ...   No   No  No   \n",
       "2      vietnamese     No       No    No         No    No  ...   No   No  No   \n",
       "3      vietnamese     No       No    No         No    No  ...   No   No  No   \n",
       "4      vietnamese     No       No    No         No    No  ...   No   No  No   \n",
       "...           ...    ...      ...   ...        ...   ...  ...  ...  ...  ..   \n",
       "57686    japanese     No       No    No         No    No  ...   No   No  No   \n",
       "57687    japanese     No       No    No         No    No  ...   No   No  No   \n",
       "57688    japanese     No       No    No         No    No  ...   No   No  No   \n",
       "57689    japanese     No       No    No         No    No  ...   No   No  No   \n",
       "57690    japanese     No       No    No         No    No  ...   No   No  No   \n",
       "\n",
       "      yeast yogurt zucchini  \n",
       "0        No     No       No  \n",
       "1        No     No       No  \n",
       "2        No     No       No  \n",
       "3        No     No       No  \n",
       "4        No     No       No  \n",
       "...     ...    ...      ...  \n",
       "57686    No     No       No  \n",
       "57687    No     No       No  \n",
       "57688    No     No       No  \n",
       "57689    No     No       No  \n",
       "57690    No     No       No  \n",
       "\n",
       "[57691 rows x 384 columns]"
      ]
     },
     "execution_count": 7,
     "metadata": {},
     "output_type": "execute_result"
    }
   ],
   "source": [
    "recipes.loc[recipes[\"cuisine\"] == \"austria\", \"cuisine\"] = \"austrian\"\n",
    "recipes.loc[recipes[\"cuisine\"] == \"belgium\", \"cuisine\"] = \"belgian\"\n",
    "recipes.loc[recipes[\"cuisine\"] == \"china\", \"cuisine\"] = \"chinese\"\n",
    "recipes.loc[recipes[\"cuisine\"] == \"canada\", \"cuisine\"] = \"canadian\"\n",
    "recipes.loc[recipes[\"cuisine\"] == \"netherlands\", \"cuisine\"] = \"dutch\"\n",
    "recipes.loc[recipes[\"cuisine\"] == \"france\", \"cuisine\"] = \"french\"\n",
    "recipes.loc[recipes[\"cuisine\"] == \"germany\", \"cuisine\"] = \"german\"\n",
    "recipes.loc[recipes[\"cuisine\"] == \"india\", \"cuisine\"] = \"indian\"\n",
    "recipes.loc[recipes[\"cuisine\"] == \"indonesia\", \"cuisine\"] = \"indonesian\"\n",
    "recipes.loc[recipes[\"cuisine\"] == \"iran\", \"cuisine\"] = \"iranian\"\n",
    "recipes.loc[recipes[\"cuisine\"] == \"italy\", \"cuisine\"] = \"italian\"\n",
    "recipes.loc[recipes[\"cuisine\"] == \"japan\", \"cuisine\"] = \"japanese\"\n",
    "recipes.loc[recipes[\"cuisine\"] == \"israel\", \"cuisine\"] = \"israeli\"\n",
    "recipes.loc[recipes[\"cuisine\"] == \"korea\", \"cuisine\"] = \"korean\"\n",
    "recipes.loc[recipes[\"cuisine\"] == \"lebanon\", \"cuisine\"] = \"lebanese\"\n",
    "recipes.loc[recipes[\"cuisine\"] == \"malaysia\", \"cuisine\"] = \"malaysian\"\n",
    "recipes.loc[recipes[\"cuisine\"] == \"mexico\", \"cuisine\"] = \"mexican\"\n",
    "recipes.loc[recipes[\"cuisine\"] == \"pakistan\", \"cuisine\"] = \"pakistani\"\n",
    "recipes.loc[recipes[\"cuisine\"] == \"philippines\", \"cuisine\"] = \"philippine\"\n",
    "recipes.loc[recipes[\"cuisine\"] == \"scandinavia\", \"cuisine\"] = \"scandinavian\"\n",
    "recipes.loc[recipes[\"cuisine\"] == \"spain\", \"cuisine\"] = \"spanish_portuguese\"\n",
    "recipes.loc[recipes[\"cuisine\"] == \"portugal\", \"cuisine\"] = \"spanish_portuguese\"\n",
    "recipes.loc[recipes[\"cuisine\"] == \"switzerland\", \"cuisine\"] = \"swiss\"\n",
    "recipes.loc[recipes[\"cuisine\"] == \"thailand\", \"cuisine\"] = \"thai\"\n",
    "recipes.loc[recipes[\"cuisine\"] == \"turkey\", \"cuisine\"] = \"turkish\"\n",
    "recipes.loc[recipes[\"cuisine\"] == \"vietnam\", \"cuisine\"] = \"vietnamese\"\n",
    "recipes.loc[recipes[\"cuisine\"] == \"uk-and-ireland\", \"cuisine\"] = \"uk-and-irish\"\n",
    "recipes.loc[recipes[\"cuisine\"] == \"irish\", \"cuisine\"] = \"uk-and-irish\"\n",
    "\n",
    "recipes"
   ]
  },
  {
   "cell_type": "markdown",
   "metadata": {
    "button": false,
    "new_sheet": false,
    "run_control": {
     "read_only": false
    }
   },
   "source": [
    "Remove cuisines with < 50 recipes.\n"
   ]
  },
  {
   "cell_type": "code",
   "execution_count": 8,
   "metadata": {
    "button": false,
    "new_sheet": false,
    "run_control": {
     "read_only": false
    },
    "tags": []
   },
   "outputs": [],
   "source": [
    "# get list of cuisines to keep\n",
    "recipes_counts = recipes[\"cuisine\"].value_counts()\n",
    "cuisines_indices = recipes_counts > 50\n",
    "\n",
    "cuisines_to_keep = list(np.array(recipes_counts.index.values)[np.array(cuisines_indices)])"
   ]
  },
  {
   "cell_type": "code",
   "execution_count": 9,
   "metadata": {
    "button": false,
    "new_sheet": false,
    "run_control": {
     "read_only": false
    },
    "tags": []
   },
   "outputs": [
    {
     "name": "stdout",
     "output_type": "stream",
     "text": [
      "Number of rows of original dataframe is 57691.\n",
      "Number of rows of processed dataframe is 57394.\n",
      "297 rows removed!\n"
     ]
    }
   ],
   "source": [
    "rows_before = recipes.shape[0] # number of rows of original dataframe\n",
    "print(\"Number of rows of original dataframe is {}.\".format(rows_before))\n",
    "\n",
    "recipes = recipes.loc[recipes['cuisine'].isin(cuisines_to_keep)]\n",
    "\n",
    "rows_after = recipes.shape[0] # number of rows of processed dataframe\n",
    "print(\"Number of rows of processed dataframe is {}.\".format(rows_after))\n",
    "\n",
    "print(\"{} rows removed!\".format(rows_before - rows_after))"
   ]
  },
  {
   "cell_type": "markdown",
   "metadata": {
    "button": false,
    "new_sheet": false,
    "run_control": {
     "read_only": false
    }
   },
   "source": [
    "Convert all Yes's to 1's and the No's to 0's\n"
   ]
  },
  {
   "cell_type": "code",
   "execution_count": 10,
   "metadata": {
    "button": false,
    "new_sheet": false,
    "run_control": {
     "read_only": false
    },
    "tags": []
   },
   "outputs": [],
   "source": [
    "recipes = recipes.replace(to_replace=\"Yes\", value=1)\n",
    "recipes = recipes.replace(to_replace=\"No\", value=0)"
   ]
  },
  {
   "cell_type": "markdown",
   "metadata": {
    "button": false,
    "new_sheet": false,
    "run_control": {
     "read_only": false
    }
   },
   "source": [
    "#### Let's analyze the data a little more in order to learn the data better and note any interesting preliminary observations.\n"
   ]
  },
  {
   "cell_type": "markdown",
   "metadata": {
    "button": false,
    "new_sheet": false,
    "run_control": {
     "read_only": false
    }
   },
   "source": [
    "Run the following cell to get the recipes that contain **rice** _and_ **soy** _and_ **wasabi** _and_ **seaweed**.\n"
   ]
  },
  {
   "cell_type": "code",
   "execution_count": 11,
   "metadata": {
    "button": false,
    "new_sheet": false,
    "run_control": {
     "read_only": false
    },
    "tags": []
   },
   "outputs": [
    {
     "data": {
      "text/html": [
       "<div>\n",
       "<style scoped>\n",
       "    .dataframe tbody tr th:only-of-type {\n",
       "        vertical-align: middle;\n",
       "    }\n",
       "\n",
       "    .dataframe tbody tr th {\n",
       "        vertical-align: top;\n",
       "    }\n",
       "\n",
       "    .dataframe thead th {\n",
       "        text-align: right;\n",
       "    }\n",
       "</style>\n",
       "<table border=\"1\" class=\"dataframe\">\n",
       "  <thead>\n",
       "    <tr style=\"text-align: right;\">\n",
       "      <th></th>\n",
       "      <th>cuisine</th>\n",
       "      <th>almond</th>\n",
       "      <th>angelica</th>\n",
       "      <th>anise</th>\n",
       "      <th>anise_seed</th>\n",
       "      <th>apple</th>\n",
       "      <th>...</th>\n",
       "      <th>wine</th>\n",
       "      <th>wood</th>\n",
       "      <th>yam</th>\n",
       "      <th>yeast</th>\n",
       "      <th>yogurt</th>\n",
       "      <th>zucchini</th>\n",
       "    </tr>\n",
       "  </thead>\n",
       "  <tbody>\n",
       "    <tr>\n",
       "      <th>0</th>\n",
       "      <td>vietnamese</td>\n",
       "      <td>0</td>\n",
       "      <td>0</td>\n",
       "      <td>0</td>\n",
       "      <td>0</td>\n",
       "      <td>0</td>\n",
       "      <td>...</td>\n",
       "      <td>0</td>\n",
       "      <td>0</td>\n",
       "      <td>0</td>\n",
       "      <td>0</td>\n",
       "      <td>0</td>\n",
       "      <td>0</td>\n",
       "    </tr>\n",
       "    <tr>\n",
       "      <th>1</th>\n",
       "      <td>vietnamese</td>\n",
       "      <td>0</td>\n",
       "      <td>0</td>\n",
       "      <td>0</td>\n",
       "      <td>0</td>\n",
       "      <td>0</td>\n",
       "      <td>...</td>\n",
       "      <td>0</td>\n",
       "      <td>0</td>\n",
       "      <td>0</td>\n",
       "      <td>0</td>\n",
       "      <td>0</td>\n",
       "      <td>0</td>\n",
       "    </tr>\n",
       "    <tr>\n",
       "      <th>2</th>\n",
       "      <td>vietnamese</td>\n",
       "      <td>0</td>\n",
       "      <td>0</td>\n",
       "      <td>0</td>\n",
       "      <td>0</td>\n",
       "      <td>0</td>\n",
       "      <td>...</td>\n",
       "      <td>0</td>\n",
       "      <td>0</td>\n",
       "      <td>0</td>\n",
       "      <td>0</td>\n",
       "      <td>0</td>\n",
       "      <td>0</td>\n",
       "    </tr>\n",
       "    <tr>\n",
       "      <th>3</th>\n",
       "      <td>vietnamese</td>\n",
       "      <td>0</td>\n",
       "      <td>0</td>\n",
       "      <td>0</td>\n",
       "      <td>0</td>\n",
       "      <td>0</td>\n",
       "      <td>...</td>\n",
       "      <td>0</td>\n",
       "      <td>0</td>\n",
       "      <td>0</td>\n",
       "      <td>0</td>\n",
       "      <td>0</td>\n",
       "      <td>0</td>\n",
       "    </tr>\n",
       "    <tr>\n",
       "      <th>4</th>\n",
       "      <td>vietnamese</td>\n",
       "      <td>0</td>\n",
       "      <td>0</td>\n",
       "      <td>0</td>\n",
       "      <td>0</td>\n",
       "      <td>0</td>\n",
       "      <td>...</td>\n",
       "      <td>0</td>\n",
       "      <td>0</td>\n",
       "      <td>0</td>\n",
       "      <td>0</td>\n",
       "      <td>0</td>\n",
       "      <td>0</td>\n",
       "    </tr>\n",
       "  </tbody>\n",
       "</table>\n",
       "<p>5 rows × 384 columns</p>\n",
       "</div>"
      ],
      "text/plain": [
       "      cuisine  almond  angelica  anise  anise_seed  apple  ...  wine  wood  \\\n",
       "0  vietnamese       0         0      0           0      0  ...     0     0   \n",
       "1  vietnamese       0         0      0           0      0  ...     0     0   \n",
       "2  vietnamese       0         0      0           0      0  ...     0     0   \n",
       "3  vietnamese       0         0      0           0      0  ...     0     0   \n",
       "4  vietnamese       0         0      0           0      0  ...     0     0   \n",
       "\n",
       "   yam  yeast  yogurt  zucchini  \n",
       "0    0      0       0         0  \n",
       "1    0      0       0         0  \n",
       "2    0      0       0         0  \n",
       "3    0      0       0         0  \n",
       "4    0      0       0         0  \n",
       "\n",
       "[5 rows x 384 columns]"
      ]
     },
     "execution_count": 11,
     "metadata": {},
     "output_type": "execute_result"
    }
   ],
   "source": [
    "recipes.head()"
   ]
  },
  {
   "cell_type": "code",
   "execution_count": 12,
   "metadata": {
    "button": false,
    "new_sheet": false,
    "run_control": {
     "read_only": false
    },
    "tags": []
   },
   "outputs": [
    {
     "data": {
      "text/html": [
       "<div>\n",
       "<style scoped>\n",
       "    .dataframe tbody tr th:only-of-type {\n",
       "        vertical-align: middle;\n",
       "    }\n",
       "\n",
       "    .dataframe tbody tr th {\n",
       "        vertical-align: top;\n",
       "    }\n",
       "\n",
       "    .dataframe thead th {\n",
       "        text-align: right;\n",
       "    }\n",
       "</style>\n",
       "<table border=\"1\" class=\"dataframe\">\n",
       "  <thead>\n",
       "    <tr style=\"text-align: right;\">\n",
       "      <th></th>\n",
       "      <th>cuisine</th>\n",
       "      <th>almond</th>\n",
       "      <th>angelica</th>\n",
       "      <th>anise</th>\n",
       "      <th>anise_seed</th>\n",
       "      <th>apple</th>\n",
       "      <th>...</th>\n",
       "      <th>wine</th>\n",
       "      <th>wood</th>\n",
       "      <th>yam</th>\n",
       "      <th>yeast</th>\n",
       "      <th>yogurt</th>\n",
       "      <th>zucchini</th>\n",
       "    </tr>\n",
       "  </thead>\n",
       "  <tbody>\n",
       "    <tr>\n",
       "      <th>11306</th>\n",
       "      <td>japanese</td>\n",
       "      <td>0</td>\n",
       "      <td>0</td>\n",
       "      <td>0</td>\n",
       "      <td>0</td>\n",
       "      <td>0</td>\n",
       "      <td>...</td>\n",
       "      <td>0</td>\n",
       "      <td>0</td>\n",
       "      <td>0</td>\n",
       "      <td>0</td>\n",
       "      <td>0</td>\n",
       "      <td>0</td>\n",
       "    </tr>\n",
       "    <tr>\n",
       "      <th>11321</th>\n",
       "      <td>japanese</td>\n",
       "      <td>0</td>\n",
       "      <td>0</td>\n",
       "      <td>0</td>\n",
       "      <td>0</td>\n",
       "      <td>0</td>\n",
       "      <td>...</td>\n",
       "      <td>1</td>\n",
       "      <td>0</td>\n",
       "      <td>0</td>\n",
       "      <td>0</td>\n",
       "      <td>0</td>\n",
       "      <td>0</td>\n",
       "    </tr>\n",
       "    <tr>\n",
       "      <th>11361</th>\n",
       "      <td>japanese</td>\n",
       "      <td>0</td>\n",
       "      <td>0</td>\n",
       "      <td>0</td>\n",
       "      <td>0</td>\n",
       "      <td>0</td>\n",
       "      <td>...</td>\n",
       "      <td>0</td>\n",
       "      <td>0</td>\n",
       "      <td>0</td>\n",
       "      <td>0</td>\n",
       "      <td>0</td>\n",
       "      <td>0</td>\n",
       "    </tr>\n",
       "    <tr>\n",
       "      <th>12171</th>\n",
       "      <td>asian</td>\n",
       "      <td>0</td>\n",
       "      <td>0</td>\n",
       "      <td>0</td>\n",
       "      <td>0</td>\n",
       "      <td>0</td>\n",
       "      <td>...</td>\n",
       "      <td>1</td>\n",
       "      <td>0</td>\n",
       "      <td>0</td>\n",
       "      <td>0</td>\n",
       "      <td>0</td>\n",
       "      <td>0</td>\n",
       "    </tr>\n",
       "    <tr>\n",
       "      <th>12385</th>\n",
       "      <td>asian</td>\n",
       "      <td>0</td>\n",
       "      <td>0</td>\n",
       "      <td>0</td>\n",
       "      <td>0</td>\n",
       "      <td>0</td>\n",
       "      <td>...</td>\n",
       "      <td>0</td>\n",
       "      <td>0</td>\n",
       "      <td>0</td>\n",
       "      <td>0</td>\n",
       "      <td>0</td>\n",
       "      <td>0</td>\n",
       "    </tr>\n",
       "    <tr>\n",
       "      <th>13010</th>\n",
       "      <td>asian</td>\n",
       "      <td>0</td>\n",
       "      <td>0</td>\n",
       "      <td>0</td>\n",
       "      <td>0</td>\n",
       "      <td>0</td>\n",
       "      <td>...</td>\n",
       "      <td>0</td>\n",
       "      <td>0</td>\n",
       "      <td>0</td>\n",
       "      <td>0</td>\n",
       "      <td>0</td>\n",
       "      <td>0</td>\n",
       "    </tr>\n",
       "    <tr>\n",
       "      <th>13159</th>\n",
       "      <td>asian</td>\n",
       "      <td>0</td>\n",
       "      <td>0</td>\n",
       "      <td>0</td>\n",
       "      <td>0</td>\n",
       "      <td>0</td>\n",
       "      <td>...</td>\n",
       "      <td>0</td>\n",
       "      <td>0</td>\n",
       "      <td>0</td>\n",
       "      <td>0</td>\n",
       "      <td>0</td>\n",
       "      <td>0</td>\n",
       "    </tr>\n",
       "    <tr>\n",
       "      <th>13513</th>\n",
       "      <td>japanese</td>\n",
       "      <td>0</td>\n",
       "      <td>0</td>\n",
       "      <td>0</td>\n",
       "      <td>0</td>\n",
       "      <td>0</td>\n",
       "      <td>...</td>\n",
       "      <td>0</td>\n",
       "      <td>0</td>\n",
       "      <td>0</td>\n",
       "      <td>0</td>\n",
       "      <td>0</td>\n",
       "      <td>0</td>\n",
       "    </tr>\n",
       "    <tr>\n",
       "      <th>13586</th>\n",
       "      <td>japanese</td>\n",
       "      <td>0</td>\n",
       "      <td>0</td>\n",
       "      <td>0</td>\n",
       "      <td>0</td>\n",
       "      <td>0</td>\n",
       "      <td>...</td>\n",
       "      <td>0</td>\n",
       "      <td>0</td>\n",
       "      <td>0</td>\n",
       "      <td>0</td>\n",
       "      <td>0</td>\n",
       "      <td>0</td>\n",
       "    </tr>\n",
       "    <tr>\n",
       "      <th>13625</th>\n",
       "      <td>east_asian</td>\n",
       "      <td>0</td>\n",
       "      <td>0</td>\n",
       "      <td>0</td>\n",
       "      <td>0</td>\n",
       "      <td>0</td>\n",
       "      <td>...</td>\n",
       "      <td>0</td>\n",
       "      <td>0</td>\n",
       "      <td>0</td>\n",
       "      <td>0</td>\n",
       "      <td>0</td>\n",
       "      <td>0</td>\n",
       "    </tr>\n",
       "    <tr>\n",
       "      <th>14495</th>\n",
       "      <td>east_asian</td>\n",
       "      <td>0</td>\n",
       "      <td>0</td>\n",
       "      <td>0</td>\n",
       "      <td>0</td>\n",
       "      <td>0</td>\n",
       "      <td>...</td>\n",
       "      <td>0</td>\n",
       "      <td>0</td>\n",
       "      <td>0</td>\n",
       "      <td>0</td>\n",
       "      <td>0</td>\n",
       "      <td>0</td>\n",
       "    </tr>\n",
       "  </tbody>\n",
       "</table>\n",
       "<p>11 rows × 384 columns</p>\n",
       "</div>"
      ],
      "text/plain": [
       "          cuisine  almond  angelica  anise  anise_seed  apple  ...  wine  \\\n",
       "11306    japanese       0         0      0           0      0  ...     0   \n",
       "11321    japanese       0         0      0           0      0  ...     1   \n",
       "11361    japanese       0         0      0           0      0  ...     0   \n",
       "12171       asian       0         0      0           0      0  ...     1   \n",
       "12385       asian       0         0      0           0      0  ...     0   \n",
       "13010       asian       0         0      0           0      0  ...     0   \n",
       "13159       asian       0         0      0           0      0  ...     0   \n",
       "13513    japanese       0         0      0           0      0  ...     0   \n",
       "13586    japanese       0         0      0           0      0  ...     0   \n",
       "13625  east_asian       0         0      0           0      0  ...     0   \n",
       "14495  east_asian       0         0      0           0      0  ...     0   \n",
       "\n",
       "       wood  yam  yeast  yogurt  zucchini  \n",
       "11306     0    0      0       0         0  \n",
       "11321     0    0      0       0         0  \n",
       "11361     0    0      0       0         0  \n",
       "12171     0    0      0       0         0  \n",
       "12385     0    0      0       0         0  \n",
       "13010     0    0      0       0         0  \n",
       "13159     0    0      0       0         0  \n",
       "13513     0    0      0       0         0  \n",
       "13586     0    0      0       0         0  \n",
       "13625     0    0      0       0         0  \n",
       "14495     0    0      0       0         0  \n",
       "\n",
       "[11 rows x 384 columns]"
      ]
     },
     "execution_count": 12,
     "metadata": {},
     "output_type": "execute_result"
    }
   ],
   "source": [
    "check_recipes = recipes.loc[\n",
    "    (recipes[\"rice\"] == 1) &\n",
    "    (recipes[\"soy_sauce\"] == 1) &\n",
    "    (recipes[\"wasabi\"] == 1) &\n",
    "    (recipes[\"seaweed\"] == 1)\n",
    "]\n",
    "\n",
    "check_recipes"
   ]
  },
  {
   "cell_type": "markdown",
   "metadata": {
    "button": false,
    "new_sheet": false,
    "run_control": {
     "read_only": false
    }
   },
   "source": [
    "Based on the results of the above code, can we classify all recipes that contain **rice** _and_ **soy** _and_ **wasabi** _and_ **seaweed** as **Japanese** recipes? Why?\n"
   ]
  },
  {
   "cell_type": "raw",
   "metadata": {
    "button": false,
    "new_sheet": false,
    "run_control": {
     "read_only": false
    }
   },
   "source": [
    "Your Answer:\n",
    "\n",
    "No, because other recipes such as Asian and East_Asian recipes also contain these ingredients."
   ]
  },
  {
   "cell_type": "markdown",
   "metadata": {
    "button": false,
    "new_sheet": false,
    "run_control": {
     "read_only": false
    }
   },
   "source": [
    "<details><summary>Click here for a solution</summary>\n",
    "\n",
    "```python\n",
    "   #The correct answer is:\n",
    "    \n",
    "    No, because other recipes such as Asian and East_Asian recipes also contain these ingredients.\n",
    "```\n",
    "\n",
    "</details>\n"
   ]
  },
  {
   "cell_type": "markdown",
   "metadata": {
    "button": false,
    "new_sheet": false,
    "run_control": {
     "read_only": false
    }
   },
   "source": [
    "Let's count the ingredients across all recipes.\n"
   ]
  },
  {
   "cell_type": "code",
   "execution_count": 13,
   "metadata": {
    "button": false,
    "new_sheet": false,
    "run_control": {
     "read_only": false
    },
    "tags": []
   },
   "outputs": [],
   "source": [
    "# sum each column\n",
    "ing = recipes.iloc[:, 1:].sum(axis=0)"
   ]
  },
  {
   "cell_type": "code",
   "execution_count": 14,
   "metadata": {
    "button": false,
    "new_sheet": false,
    "run_control": {
     "read_only": false
    },
    "tags": []
   },
   "outputs": [
    {
     "name": "stdout",
     "output_type": "stream",
     "text": [
      "                  ingredient  count\n",
      "0                     almond   2306\n",
      "1                   angelica      1\n",
      "2                      anise    223\n",
      "3                 anise_seed     87\n",
      "4                      apple   2420\n",
      "5               apple_brandy     37\n",
      "6                    apricot    620\n",
      "7                   armagnac     11\n",
      "8                  artemisia     13\n",
      "9                  artichoke    391\n",
      "10                 asparagus    460\n",
      "11                   avocado    660\n",
      "12                     bacon   2169\n",
      "13              baked_potato      9\n",
      "14                      balm      3\n",
      "15                    banana    989\n",
      "16                    barley    266\n",
      "17             bartlett_pear     23\n",
      "18                     basil   3842\n",
      "19                       bay   1463\n",
      "20                      bean   1992\n",
      "21                     beech      1\n",
      "22                      beef   4902\n",
      "23                beef_broth    845\n",
      "24                beef_liver     10\n",
      "25                      beer    307\n",
      "26                      beet    233\n",
      "27               bell_pepper   5979\n",
      "28                  bergamot      7\n",
      "29                     berry    183\n",
      "30             bitter_orange     85\n",
      "31                black_bean    494\n",
      "32             black_currant     11\n",
      "33    black_mustard_seed_oil     30\n",
      "34              black_pepper   9825\n",
      "35           black_raspberry      8\n",
      "36         black_sesame_seed     26\n",
      "37                 black_tea     44\n",
      "38                blackberry    170\n",
      "39         blackberry_brandy      4\n",
      "40               blue_cheese    396\n",
      "41                 blueberry    466\n",
      "42                  bone_oil     50\n",
      "43           bourbon_whiskey    156\n",
      "44                    brandy    395\n",
      "45                  brassica    114\n",
      "46                     bread   4571\n",
      "47                  broccoli    929\n",
      "48                brown_rice    346\n",
      "49           brussels_sprout     92\n",
      "50                 buckwheat     90\n",
      "51                    butter  20715\n",
      "52                buttermilk   1634\n",
      "53                   cabbage   1026\n",
      "54   cabernet_sauvignon_wine     17\n",
      "55                     cacao     35\n",
      "56          camembert_cheese     12\n",
      "57             cane_molasses   7741\n",
      "58                   caraway    233\n",
      "59                  cardamom    352\n",
      "60                 carnation      3\n",
      "61                     carob      7\n",
      "62                    carrot   3689\n",
      "63                    cashew    208\n",
      "64                   cassava     19\n",
      "65                   catfish     71\n",
      "66               cauliflower    332\n",
      "67                    caviar     28\n",
      "68                   cayenne   8253\n",
      "69                    celery   3625\n",
      "70                celery_oil   1005\n",
      "71                    cereal    204\n",
      "72                 chamomile      3\n",
      "73            champagne_wine    100\n",
      "74                   chayote     27\n",
      "75            cheddar_cheese   3027\n",
      "76                    cheese   3278\n",
      "77                    cherry   1082\n",
      "78             cherry_brandy     32\n",
      "79                   chervil     52\n",
      "80                   chicken   5436\n",
      "81             chicken_broth   3603\n",
      "82             chicken_liver     52\n",
      "83                  chickpea    402\n",
      "84                   chicory    156\n",
      "85           chinese_cabbage    166\n",
      "86                     chive   1333\n",
      "87                     cider   1132\n",
      "88                  cilantro   2473\n",
      "89                  cinnamon   5593\n",
      "90                    citrus    167\n",
      "91               citrus_peel      4\n",
      "92                      clam    476\n",
      "93                     clove     10\n",
      "94                     cocoa   4798\n",
      "95                   coconut   1801\n",
      "96               coconut_oil     17\n",
      "97                       cod    180\n",
      "98                    coffee    719\n",
      "99                    cognac     67\n",
      "100            concord_grape     12\n",
      "101                condiment      9\n",
      "102                coriander   1647\n",
      "103                     corn   4828\n",
      "104               corn_flake    225\n",
      "105                corn_grit    163\n",
      "106           cottage_cheese    347\n",
      "107                     crab    574\n",
      "108                cranberry    920\n",
      "109                    cream  10170\n",
      "110             cream_cheese   2840\n",
      "111                 cucumber   1895\n",
      "112                    cumin   3274\n",
      "113               cured_pork    315\n",
      "114                  currant    241\n",
      "115                     date    377\n",
      "116                     dill   1105\n",
      "117                   durian      0\n",
      "118                      eel     20\n",
      "119                      egg  21022\n",
      "120               egg_noodle    317\n",
      "121               elderberry      5\n",
      "122          emmental_cheese      1\n",
      "123                   endive    115\n",
      "124                enokidake    106\n",
      "125                   fennel    912\n",
      "126                fenugreek    924\n",
      "127              feta_cheese    623\n",
      "128                      fig    139\n",
      "129                     fish   2110\n",
      "130                   flower     32\n",
      "131              frankfurter     37\n",
      "132                    fruit    479\n",
      "133                  galanga     49\n",
      "134                 gardenia      9\n",
      "135                   garlic  17351\n",
      "136                  gelatin   1417\n",
      "137                 geranium      1\n",
      "138                      gin     68\n",
      "139                   ginger   4358\n",
      "140              goat_cheese    260\n",
      "141                    grape    346\n",
      "142             grape_brandy      8\n",
      "143              grape_juice    824\n",
      "144               grapefruit    121\n",
      "145        green_bell_pepper   2582\n",
      "146                green_tea     35\n",
      "147           gruyere_cheese     45\n",
      "148                    guava     13\n",
      "149                  haddock     31\n",
      "150                      ham   1300\n",
      "151                 hazelnut    284\n",
      "152                  herring     10\n",
      "153               holy_basil      3\n",
      "154                    honey   2551\n",
      "155                      hop      3\n",
      "156              horseradish    396\n",
      "157              huckleberry     10\n",
      "158             jamaican_rum      1\n",
      "159            japanese_plum     13\n",
      "160                  jasmine      8\n",
      "161              jasmine_tea      2\n",
      "162            juniper_berry     33\n",
      "163              kaffir_lime      1\n",
      "164                     kale    100\n",
      "165              katsuobushi     63\n",
      "166                     kelp    179\n",
      "167              kidney_bean    442\n",
      "168                     kiwi    109\n",
      "169                 kohlrabi      6\n",
      "170                  kumquat     33\n",
      "171                     lamb    482\n",
      "172                     lard   3051\n",
      "173                   laurel      2\n",
      "174                 lavender     62\n",
      "175                     leaf      9\n",
      "176                     leek    422\n",
      "177                    lemon   3043\n",
      "178              lemon_juice   5065\n",
      "179               lemon_peel    729\n",
      "180               lemongrass    217\n",
      "181                   lentil    247\n",
      "182                  lettuce   1206\n",
      "183                 licorice     21\n",
      "184         lilac_flower_oil      1\n",
      "185                lima_bean    149\n",
      "186                     lime   1160\n",
      "187               lime_juice   1618\n",
      "188            lime_peel_oil    108\n",
      "189              lingonberry      9\n",
      "190                   litchi     12\n",
      "191                    liver     42\n",
      "192                  lobster    131\n",
      "193              long_pepper      2\n",
      "194                   lovage    142\n",
      "195            macadamia_nut    102\n",
      "196                 macaroni   3115\n",
      "197                     mace    117\n",
      "198                 mackerel     44\n",
      "199                     malt     37\n",
      "200                 mandarin    279\n",
      "201            mandarin_peel     15\n",
      "202                    mango    418\n",
      "203              maple_syrup    478\n",
      "204                 marjoram    527\n",
      "205                     mate      1\n",
      "206                matsutake     57\n",
      "207                     meat    987\n",
      "208                    melon    163\n",
      "209                     milk  12869\n",
      "210                 milk_fat    959\n",
      "211                     mint   1012\n",
      "212        mozzarella_cheese   1288\n",
      "213                mung_bean     24\n",
      "214           munster_cheese     27\n",
      "215             muscat_grape      1\n",
      "216                 mushroom   3370\n",
      "217                   mussel    168\n",
      "218                  mustard   4119\n",
      "219                   mutton      3\n",
      "220                nectarine     51\n",
      "221                     nira     67\n",
      "222                      nut   1255\n",
      "223                   nutmeg   2506\n",
      "224                      oat   1265\n",
      "225                  oatmeal     61\n",
      "226                  octopus     45\n",
      "227                     okra    102\n",
      "228                    olive   1798\n",
      "229                olive_oil   9874\n",
      "230                    onion  18078\n",
      "231                   orange   1724\n",
      "232            orange_flower     17\n",
      "233             orange_juice   1726\n",
      "234              orange_peel    596\n",
      "235                  oregano   3180\n",
      "236                     ouzo      9\n",
      "237                   oyster    406\n",
      "238                     palm     46\n",
      "239                   papaya     57\n",
      "240          parmesan_cheese   3173\n",
      "241                  parsley   5550\n",
      "242                  parsnip    139\n",
      "243            passion_fruit     20\n",
      "244                      pea   1180\n",
      "245                    peach    531\n",
      "246                   peanut    509\n",
      "247            peanut_butter   1014\n",
      "248               peanut_oil    308\n",
      "249                     pear    484\n",
      "250              pear_brandy     11\n",
      "251                    pecan   2176\n",
      "252              pelargonium      1\n",
      "253                   pepper   9230\n",
      "254               peppermint    142\n",
      "255           peppermint_oil      8\n",
      "256                  pimenta      2\n",
      "257                  pimento    270\n",
      "258                pineapple   1638\n",
      "259                pistachio    219\n",
      "260                     plum    288\n",
      "261                  popcorn     97\n",
      "262                  porcini    106\n",
      "263                     pork   2056\n",
      "264               pork_liver      5\n",
      "265             pork_sausage   1369\n",
      "266                port_wine     49\n",
      "267                   potato   3528\n",
      "268              potato_chip     65\n",
      "269                    prawn     24\n",
      "270             prickly_pear     20\n",
      "271         provolone_cheese    168\n",
      "272                  pumpkin    803\n",
      "273                   quince     29\n",
      "274                   radish    525\n",
      "275                   raisin   1889\n",
      "276                 rapeseed      3\n",
      "277                raspberry    784\n",
      "278                 raw_beef      2\n",
      "279                red_algae      2\n",
      "280                 red_bean     33\n",
      "281          red_kidney_bean     59\n",
      "282                 red_wine   1395\n",
      "283                  rhubarb    169\n",
      "284                     rice   3856\n",
      "285           roasted_almond      3\n",
      "286             roasted_beef    227\n",
      "287         roasted_hazelnut      1\n",
      "288             roasted_meat     15\n",
      "289              roasted_nut      1\n",
      "290           roasted_peanut    202\n",
      "291            roasted_pecan      1\n",
      "292             roasted_pork    124\n",
      "293      roasted_sesame_seed    593\n",
      "294            romano_cheese    275\n",
      "295                     root    101\n",
      "296         roquefort_cheese     23\n",
      "297                     rose     56\n",
      "298                 rosemary   1892\n",
      "299                      rum    599\n",
      "300                 rutabaga     34\n",
      "301                rye_bread     92\n",
      "302                rye_flour    131\n",
      "303                  saffron    234\n",
      "304                     sage    904\n",
      "305                     sake    680\n",
      "306                   salmon    451\n",
      "307               salmon_roe     15\n",
      "308                sassafras     18\n",
      "309               sauerkraut    185\n",
      "310                   savory    128\n",
      "311                 scallion   4782\n",
      "312                  scallop    300\n",
      "313                sea_algae      4\n",
      "314                  seaweed    215\n",
      "315                     seed   1340\n",
      "316               sesame_oil   1693\n",
      "317              sesame_seed    778\n",
      "318                  shallot   1304\n",
      "319             sheep_cheese      2\n",
      "320                shellfish     27\n",
      "321                   sherry    706\n",
      "322                 shiitake    595\n",
      "323                   shrimp   1679\n",
      "324                    smoke    463\n",
      "325              smoked_fish      6\n",
      "326            smoked_salmon    100\n",
      "327           smoked_sausage    268\n",
      "328              sour_cherry     50\n",
      "329                sour_milk     46\n",
      "330                soy_sauce   3799\n",
      "331                  soybean   1195\n",
      "332              soybean_oil      2\n",
      "333                spearmint      6\n",
      "334                   squash    572\n",
      "335                    squid    238\n",
      "336               star_anise    131\n",
      "337                   starch   2731\n",
      "338               strawberry   1080\n",
      "339           strawberry_jam      1\n",
      "340         strawberry_juice      2\n",
      "341          sturgeon_caviar      1\n",
      "342                    sumac     11\n",
      "343            sunflower_oil      8\n",
      "344             sweet_potato    529\n",
      "345             swiss_cheese    519\n",
      "346           tabasco_pepper    976\n",
      "347                 tamarind   1672\n",
      "348                tangerine     52\n",
      "349                 tarragon    478\n",
      "350                      tea    108\n",
      "351                  tequila    142\n",
      "352              thai_pepper    136\n",
      "353                    thyme   3043\n",
      "354                   tomato   9920\n",
      "355             tomato_juice    176\n",
      "356                  truffle     52\n",
      "357                     tuna    463\n",
      "358                   turkey    900\n",
      "359                 turmeric   1290\n",
      "360                   turnip    188\n",
      "361                  vanilla   9009\n",
      "362                     veal    197\n",
      "363                vegetable   1703\n",
      "364            vegetable_oil  11103\n",
      "365                  vinegar   8060\n",
      "366                   violet      5\n",
      "367                   walnut   2728\n",
      "368                   wasabi    135\n",
      "369               watercress    150\n",
      "370               watermelon    110\n",
      "371                    wheat  20775\n",
      "372              wheat_bread     82\n",
      "373                  whiskey    148\n",
      "374              white_bread    370\n",
      "375               white_wine   2205\n",
      "376  whole_grain_wheat_flour    731\n",
      "377                     wine   1026\n",
      "378                     wood     33\n",
      "379                      yam     85\n",
      "380                    yeast   3385\n",
      "381                   yogurt   1033\n",
      "382                 zucchini   1102\n"
     ]
    }
   ],
   "source": [
    "# define each column as a pandas series\n",
    "ingredient = pd.Series(ing.index.values, index = np.arange(len(ing)))\n",
    "count = pd.Series(list(ing), index = np.arange(len(ing)))\n",
    "\n",
    "# create the dataframe\n",
    "ing_df = pd.DataFrame(dict(ingredient = ingredient, count = count))\n",
    "ing_df = ing_df[[\"ingredient\", \"count\"]]\n",
    "print(ing_df.to_string())"
   ]
  },
  {
   "cell_type": "markdown",
   "metadata": {
    "button": false,
    "new_sheet": false,
    "run_control": {
     "read_only": false
    }
   },
   "source": [
    "Now we have a dataframe of ingredients and their total counts across all recipes. Let's sort this dataframe in descending order.\n"
   ]
  },
  {
   "cell_type": "code",
   "execution_count": 15,
   "metadata": {
    "button": false,
    "new_sheet": false,
    "run_control": {
     "read_only": false
    },
    "tags": []
   },
   "outputs": [
    {
     "name": "stdout",
     "output_type": "stream",
     "text": [
      "          ingredient  count\n",
      "0                egg  21022\n",
      "1              wheat  20775\n",
      "2             butter  20715\n",
      "3              onion  18078\n",
      "4             garlic  17351\n",
      "..               ...    ...\n",
      "378   strawberry_jam      1\n",
      "379  sturgeon_caviar      1\n",
      "380      kaffir_lime      1\n",
      "381            beech      1\n",
      "382           durian      0\n",
      "\n",
      "[383 rows x 2 columns]\n"
     ]
    }
   ],
   "source": [
    "ing_df.sort_values([\"count\"], ascending=False, inplace=True)\n",
    "ing_df.reset_index(inplace=True, drop=True)\n",
    "\n",
    "print(ing_df)"
   ]
  },
  {
   "cell_type": "markdown",
   "metadata": {
    "button": false,
    "new_sheet": false,
    "run_control": {
     "read_only": false
    }
   },
   "source": [
    "#### What are the 3 most popular ingredients?\n"
   ]
  },
  {
   "cell_type": "raw",
   "metadata": {
    "button": false,
    "new_sheet": false,
    "run_control": {
     "read_only": false
    }
   },
   "source": [
    "Your Answer:\n",
    "1.Egg\n",
    "\n",
    "2.Wheat\n",
    "\n",
    "3.Butter"
   ]
  },
  {
   "cell_type": "markdown",
   "metadata": {
    "button": false,
    "new_sheet": false,
    "run_control": {
     "read_only": false
    }
   },
   "source": [
    "<details><summary>Click here for a solution</summary>\n",
    "\n",
    "```python\n",
    "   #1. Egg with <strong>21,025</strong> occurrences. \n",
    "# 2. Wheat with <strong>20,781</strong> occurrences. \n",
    "# 3. Butter with <strong>20,719</strong> occurrences.\n",
    "```\n",
    "\n",
    "</details>\n"
   ]
  },
  {
   "cell_type": "markdown",
   "metadata": {
    "button": false,
    "new_sheet": false,
    "run_control": {
     "read_only": false
    }
   },
   "source": [
    "However, note that there is a problem with the above table. There are ~40,000 American recipes in our dataset, which means that the data is biased towards American ingredients.\n"
   ]
  },
  {
   "cell_type": "markdown",
   "metadata": {
    "button": false,
    "new_sheet": false,
    "run_control": {
     "read_only": false
    }
   },
   "source": [
    "**Therefore**, let's compute a more objective summary of the ingredients by looking at the ingredients per cuisine.\n"
   ]
  },
  {
   "cell_type": "markdown",
   "metadata": {
    "button": false,
    "new_sheet": false,
    "run_control": {
     "read_only": false
    }
   },
   "source": [
    "#### Let's create a _profile_ for each cuisine.\n",
    "\n",
    "In other words, let's try to find out what ingredients Chinese people typically use, and what is **Canadian** food for example.\n"
   ]
  },
  {
   "cell_type": "code",
   "execution_count": 16,
   "metadata": {
    "button": false,
    "new_sheet": false,
    "run_control": {
     "read_only": false
    },
    "tags": []
   },
   "outputs": [
    {
     "data": {
      "text/html": [
       "<div>\n",
       "<style scoped>\n",
       "    .dataframe tbody tr th:only-of-type {\n",
       "        vertical-align: middle;\n",
       "    }\n",
       "\n",
       "    .dataframe tbody tr th {\n",
       "        vertical-align: top;\n",
       "    }\n",
       "\n",
       "    .dataframe thead th {\n",
       "        text-align: right;\n",
       "    }\n",
       "</style>\n",
       "<table border=\"1\" class=\"dataframe\">\n",
       "  <thead>\n",
       "    <tr style=\"text-align: right;\">\n",
       "      <th></th>\n",
       "      <th>almond</th>\n",
       "      <th>angelica</th>\n",
       "      <th>anise</th>\n",
       "      <th>anise_seed</th>\n",
       "      <th>apple</th>\n",
       "      <th>apple_brandy</th>\n",
       "      <th>...</th>\n",
       "      <th>wine</th>\n",
       "      <th>wood</th>\n",
       "      <th>yam</th>\n",
       "      <th>yeast</th>\n",
       "      <th>yogurt</th>\n",
       "      <th>zucchini</th>\n",
       "    </tr>\n",
       "    <tr>\n",
       "      <th>cuisine</th>\n",
       "      <th></th>\n",
       "      <th></th>\n",
       "      <th></th>\n",
       "      <th></th>\n",
       "      <th></th>\n",
       "      <th></th>\n",
       "      <th></th>\n",
       "      <th></th>\n",
       "      <th></th>\n",
       "      <th></th>\n",
       "      <th></th>\n",
       "      <th></th>\n",
       "      <th></th>\n",
       "    </tr>\n",
       "  </thead>\n",
       "  <tbody>\n",
       "    <tr>\n",
       "      <th>african</th>\n",
       "      <td>0.156522</td>\n",
       "      <td>0.000000</td>\n",
       "      <td>0.000000</td>\n",
       "      <td>0.000000</td>\n",
       "      <td>0.034783</td>\n",
       "      <td>0.000000</td>\n",
       "      <td>...</td>\n",
       "      <td>0.017391</td>\n",
       "      <td>0.000000</td>\n",
       "      <td>0.008696</td>\n",
       "      <td>0.017391</td>\n",
       "      <td>0.000000</td>\n",
       "      <td>0.034783</td>\n",
       "    </tr>\n",
       "    <tr>\n",
       "      <th>american</th>\n",
       "      <td>0.040598</td>\n",
       "      <td>0.000025</td>\n",
       "      <td>0.003014</td>\n",
       "      <td>0.000573</td>\n",
       "      <td>0.052055</td>\n",
       "      <td>0.000623</td>\n",
       "      <td>...</td>\n",
       "      <td>0.011009</td>\n",
       "      <td>0.000672</td>\n",
       "      <td>0.001445</td>\n",
       "      <td>0.068219</td>\n",
       "      <td>0.016912</td>\n",
       "      <td>0.018630</td>\n",
       "    </tr>\n",
       "    <tr>\n",
       "      <th>asian</th>\n",
       "      <td>0.007544</td>\n",
       "      <td>0.000000</td>\n",
       "      <td>0.000838</td>\n",
       "      <td>0.002515</td>\n",
       "      <td>0.012573</td>\n",
       "      <td>0.000000</td>\n",
       "      <td>...</td>\n",
       "      <td>0.124895</td>\n",
       "      <td>0.000000</td>\n",
       "      <td>0.001676</td>\n",
       "      <td>0.004191</td>\n",
       "      <td>0.010897</td>\n",
       "      <td>0.011735</td>\n",
       "    </tr>\n",
       "    <tr>\n",
       "      <th>cajun_creole</th>\n",
       "      <td>0.000000</td>\n",
       "      <td>0.000000</td>\n",
       "      <td>0.000000</td>\n",
       "      <td>0.000000</td>\n",
       "      <td>0.006849</td>\n",
       "      <td>0.000000</td>\n",
       "      <td>...</td>\n",
       "      <td>0.191781</td>\n",
       "      <td>0.000000</td>\n",
       "      <td>0.006849</td>\n",
       "      <td>0.034247</td>\n",
       "      <td>0.006849</td>\n",
       "      <td>0.000000</td>\n",
       "    </tr>\n",
       "    <tr>\n",
       "      <th>canadian</th>\n",
       "      <td>0.036176</td>\n",
       "      <td>0.000000</td>\n",
       "      <td>0.000000</td>\n",
       "      <td>0.000000</td>\n",
       "      <td>0.036176</td>\n",
       "      <td>0.000000</td>\n",
       "      <td>...</td>\n",
       "      <td>0.003876</td>\n",
       "      <td>0.000000</td>\n",
       "      <td>0.001292</td>\n",
       "      <td>0.067183</td>\n",
       "      <td>0.019380</td>\n",
       "      <td>0.011628</td>\n",
       "    </tr>\n",
       "  </tbody>\n",
       "</table>\n",
       "<p>5 rows × 383 columns</p>\n",
       "</div>"
      ],
      "text/plain": [
       "                almond  angelica     anise  anise_seed     apple  \\\n",
       "cuisine                                                            \n",
       "african       0.156522  0.000000  0.000000    0.000000  0.034783   \n",
       "american      0.040598  0.000025  0.003014    0.000573  0.052055   \n",
       "asian         0.007544  0.000000  0.000838    0.002515  0.012573   \n",
       "cajun_creole  0.000000  0.000000  0.000000    0.000000  0.006849   \n",
       "canadian      0.036176  0.000000  0.000000    0.000000  0.036176   \n",
       "\n",
       "              apple_brandy  ...      wine      wood       yam     yeast  \\\n",
       "cuisine                     ...                                           \n",
       "african           0.000000  ...  0.017391  0.000000  0.008696  0.017391   \n",
       "american          0.000623  ...  0.011009  0.000672  0.001445  0.068219   \n",
       "asian             0.000000  ...  0.124895  0.000000  0.001676  0.004191   \n",
       "cajun_creole      0.000000  ...  0.191781  0.000000  0.006849  0.034247   \n",
       "canadian          0.000000  ...  0.003876  0.000000  0.001292  0.067183   \n",
       "\n",
       "                yogurt  zucchini  \n",
       "cuisine                           \n",
       "african       0.000000  0.034783  \n",
       "american      0.016912  0.018630  \n",
       "asian         0.010897  0.011735  \n",
       "cajun_creole  0.006849  0.000000  \n",
       "canadian      0.019380  0.011628  \n",
       "\n",
       "[5 rows x 383 columns]"
      ]
     },
     "execution_count": 16,
     "metadata": {},
     "output_type": "execute_result"
    }
   ],
   "source": [
    "cuisines = recipes.groupby(\"cuisine\").mean()\n",
    "cuisines.head()"
   ]
  },
  {
   "cell_type": "markdown",
   "metadata": {
    "button": false,
    "new_sheet": false,
    "run_control": {
     "read_only": false
    }
   },
   "source": [
    "As shown above, we have just created a dataframe where each row is a cuisine and each column (except for the first column) is an ingredient, and the row values represent the percentage of each ingredient in the corresponding cuisine.\n",
    "\n",
    "**For example**:\n",
    "\n",
    "-   _almond_ is present across 15.65% of all of the **African** recipes.\n",
    "-   _butter_ is present across 38.11% of all of the **Canadian** recipes.\n"
   ]
  },
  {
   "cell_type": "markdown",
   "metadata": {
    "button": false,
    "new_sheet": false,
    "run_control": {
     "read_only": false
    }
   },
   "source": [
    "Let's print out the profile for each cuisine by displaying the top four ingredients in each cuisine.\n"
   ]
  },
  {
   "cell_type": "code",
   "execution_count": 17,
   "metadata": {
    "button": false,
    "new_sheet": false,
    "run_control": {
     "read_only": false
    },
    "tags": []
   },
   "outputs": [
    {
     "name": "stdout",
     "output_type": "stream",
     "text": [
      "AFRICAN\n",
      "onion (53%) olive_oil (52%) garlic (49%) cumin (42%) \n",
      "\n",
      "AMERICAN\n",
      "butter (41%) egg (40%) wheat (39%) onion (29%) \n",
      "\n",
      "ASIAN\n",
      "soy_sauce (49%) ginger (48%) garlic (47%) rice (41%) \n",
      "\n",
      "CAJUN_CREOLE\n",
      "onion (69%) cayenne (56%) garlic (48%) butter (36%) \n",
      "\n",
      "CANADIAN\n",
      "wheat (39%) butter (38%) egg (35%) onion (34%) \n",
      "\n",
      "CARIBBEAN\n",
      "onion (51%) garlic (50%) vegetable_oil (31%) black_pepper (31%) \n",
      "\n",
      "CENTRAL_SOUTHAMERICAN\n",
      "garlic (56%) onion (54%) cayenne (51%) tomato (41%) \n",
      "\n",
      "CHINESE\n",
      "soy_sauce (68%) ginger (53%) garlic (52%) scallion (48%) \n",
      "\n",
      "EAST_ASIAN\n",
      "garlic (55%) soy_sauce (50%) scallion (49%) cayenne (47%) \n",
      "\n",
      "EASTERN-EUROPE\n",
      "wheat (53%) egg (52%) butter (48%) onion (45%) \n",
      "\n",
      "EASTERNEUROPEAN_RUSSIAN\n",
      "butter (60%) egg (50%) wheat (49%) onion (38%) \n",
      "\n",
      "ENGLISH_SCOTTISH\n",
      "butter (67%) wheat (62%) egg (53%) cream (41%) \n",
      "\n",
      "FRENCH\n",
      "butter (50%) egg (44%) wheat (37%) olive_oil (27%) \n",
      "\n",
      "GERMAN\n",
      "wheat (64%) egg (60%) butter (47%) onion (34%) \n",
      "\n",
      "GREEK\n",
      "olive_oil (76%) garlic (44%) onion (36%) lemon_juice (33%) \n",
      "\n",
      "INDIAN\n",
      "cumin (60%) turmeric (50%) onion (49%) coriander (47%) \n",
      "\n",
      "ITALIAN\n",
      "olive_oil (60%) garlic (52%) tomato (39%) onion (32%) \n",
      "\n",
      "JAPANESE\n",
      "soy_sauce (56%) rice (44%) vinegar (36%) vegetable_oil (35%) \n",
      "\n",
      "JEWISH\n",
      "egg (59%) wheat (48%) butter (30%) onion (30%) \n",
      "\n",
      "KOREAN\n",
      "garlic (59%) scallion (52%) cayenne (51%) soy_sauce (49%) \n",
      "\n",
      "MEDITERRANEAN\n",
      "olive_oil (79%) garlic (50%) onion (38%) tomato (34%) \n",
      "\n",
      "MEXICAN\n",
      "cayenne (73%) onion (68%) garlic (62%) tomato (58%) \n",
      "\n",
      "MIDDLEEASTERN\n",
      "olive_oil (60%) garlic (46%) wheat (37%) lemon_juice (35%) \n",
      "\n",
      "MOROCCAN\n",
      "olive_oil (72%) cumin (54%) onion (49%) garlic (45%) \n",
      "\n",
      "NORTH-AFRICAN\n",
      "onion (55%) olive_oil (50%) cumin (48%) garlic (46%) \n",
      "\n",
      "SCANDINAVIAN\n",
      "butter (64%) wheat (57%) egg (52%) cream (28%) \n",
      "\n",
      "SOUTH-AMERICA\n",
      "onion (42%) garlic (36%) egg (34%) milk (31%) \n",
      "\n",
      "SOUTHERN_SOULFOOD\n",
      "butter (57%) wheat (48%) egg (41%) corn (29%) \n",
      "\n",
      "SOUTHWESTERN\n",
      "cayenne (81%) garlic (62%) onion (61%) cilantro (51%) \n",
      "\n",
      "SPANISH_PORTUGUESE\n",
      "olive_oil (57%) garlic (54%) onion (46%) bell_pepper (35%) \n",
      "\n",
      "THAI\n",
      "garlic (59%) fish (52%) cayenne (47%) cilantro (41%) \n",
      "\n",
      "UK-AND-IRISH\n",
      "butter (59%) wheat (58%) egg (48%) milk (33%) \n",
      "\n",
      "VIETNAMESE\n",
      "fish (73%) garlic (72%) rice (49%) cayenne (43%) \n",
      "\n",
      "WESTERN\n",
      "egg (51%) wheat (46%) butter (46%) black_pepper (36%) \n",
      "\n"
     ]
    }
   ],
   "source": [
    "num_ingredients = 4 # define number of top ingredients to print\n",
    "\n",
    "# define a function that prints the top ingredients for each cuisine\n",
    "def print_top_ingredients(row):\n",
    "    print(row.name.upper())\n",
    "    row_sorted = row.sort_values(ascending=False)*100\n",
    "    top_ingredients = list(row_sorted.index.values)[0:num_ingredients]\n",
    "    row_sorted = list(row_sorted)[0:num_ingredients]\n",
    "\n",
    "    for ind, ingredient in enumerate(top_ingredients):\n",
    "        print(\"%s (%d%%)\" % (ingredient, row_sorted[ind]), end=' ')\n",
    "    print(\"\\n\")\n",
    "\n",
    "# apply function to cuisines dataframe\n",
    "create_cuisines_profiles = cuisines.apply(print_top_ingredients, axis=1)"
   ]
  },
  {
   "cell_type": "markdown",
   "metadata": {
    "button": false,
    "new_sheet": false,
    "run_control": {
     "read_only": false
    }
   },
   "source": [
    "At this point, we feel that we have understood the data well and the data is ready and is in the right format for modeling!\n",
    "\n",
    "* * *\n"
   ]
  },
  {
   "cell_type": "markdown",
   "metadata": {
    "button": false,
    "new_sheet": false,
    "run_control": {
     "read_only": false
    }
   },
   "source": [
    "### Thank you for completing this lab!\n",
    "\n",
    "This notebook is part of a course called _The Data Science Method_. If you accessed this notebook outside the course, you can take this course, online by clicking [here](https://cocl.us/DS0103EN-Exercise-From-Understanding-to-Preparation).\n",
    "\n",
    "## Author\n",
    "\n",
    "<a href=\"https://www.linkedin.com/in/aklson/\" target=\"_blank\">Alex Aklson</a>\n",
    "\n",
    "## Change Log\n",
    "\n",
    "| Date (YYYY-MM-DD) | Version | Changed By | Change Description                 |\n",
    "| ----------------- | ------- | ---------- | ---------------------------------- |\n",
    "| 2021-04-06        | 2.2     | Malika     | Updated dataset link               |\n",
    "| 2020-09-23        | 2.1     | Lakshmi    | Fixed Typo errors                  |\n",
    "| 2020-08-27        | 2.0     | Lavanya    | Moved lab to course repo in GitLab |\n",
    "\n",
    "<hr>\n",
    "\n",
    "## <h3 align=\"center\"> © IBM Corporation 2020. All rights reserved. <h3/>\n"
   ]
  }
 ],
 "metadata": {
  "kernelspec": {
   "display_name": "Python",
   "language": "python",
   "name": "conda-env-python-py"
  },
  "language_info": {
   "codemirror_mode": {
    "name": "ipython",
    "version": 3
   },
   "file_extension": ".py",
   "mimetype": "text/x-python",
   "name": "python",
   "nbconvert_exporter": "python",
   "pygments_lexer": "ipython3",
   "version": "3.6.13"
  },
  "widgets": {
   "state": {},
   "version": "1.1.2"
  }
 },
 "nbformat": 4,
 "nbformat_minor": 4
}
